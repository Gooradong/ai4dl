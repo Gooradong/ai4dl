{
  "nbformat": 4,
  "nbformat_minor": 0,
  "metadata": {
    "colab": {
      "provenance": [],
      "authorship_tag": "ABX9TyMrGj5bU1RkNouqd1Ra68RZ",
      "include_colab_link": true
    },
    "kernelspec": {
      "name": "python3",
      "display_name": "Python 3"
    },
    "language_info": {
      "name": "python"
    }
  },
  "cells": [
    {
      "cell_type": "markdown",
      "metadata": {
        "id": "view-in-github",
        "colab_type": "text"
      },
      "source": [
        "<a href=\"https://colab.research.google.com/github/Gooradong/ai4dl/blob/main/ai4dl_1.ipynb\" target=\"_parent\"><img src=\"https://colab.research.google.com/assets/colab-badge.svg\" alt=\"Open In Colab\"/></a>"
      ]
    },
    {
      "cell_type": "code",
      "execution_count": null,
      "metadata": {
        "id": "vlJWXWusWELB"
      },
      "outputs": [],
      "source": [
        "we learn about markdown today."
      ]
    },
    {
      "cell_type": "code",
      "source": [
        "This is my note to learn about AI를 위한 프로그래밍 in first week"
      ],
      "metadata": {
        "id": "yQxMrPLIWOOn"
      },
      "execution_count": null,
      "outputs": []
    }
  ]
}