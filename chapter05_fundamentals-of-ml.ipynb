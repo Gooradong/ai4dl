{
  "cells": [
    {
      "cell_type": "markdown",
      "metadata": {
        "id": "BvqeWrYk0VfG"
      },
      "source": [
        "This is a companion notebook for the book [Deep Learning with Python, Second Edition](https://www.manning.com/books/deep-learning-with-python-second-edition?a_aid=keras&a_bid=76564dff). For readability, it only contains runnable code blocks and section titles, and omits everything else in the book: text paragraphs, figures, and pseudocode.\n",
        "\n",
        "**If you want to be able to follow what's going on, I recommend reading the notebook side by side with your copy of the book.**\n",
        "\n",
        "This notebook was generated for TensorFlow 2.6."
      ]
    },
    {
      "cell_type": "markdown",
      "metadata": {
        "id": "m5Siw88C0VfQ"
      },
      "source": [
        "# Fundamentals of machine learning"
      ]
    },
    {
      "cell_type": "markdown",
      "metadata": {
        "id": "nD_NjnJx0VfS"
      },
      "source": [
        "## Generalization: The goal of machine learning"
      ]
    },
    {
      "cell_type": "markdown",
      "metadata": {
        "id": "bibDbX1s0VfS"
      },
      "source": [
        "### Underfitting and overfitting"
      ]
    },
    {
      "cell_type": "markdown",
      "metadata": {
        "id": "z2J_1o5j0VfT"
      },
      "source": [
        "#### Noisy training data"
      ]
    },
    {
      "cell_type": "markdown",
      "metadata": {
        "id": "Ypstxr5j0VfU"
      },
      "source": [
        "#### Ambiguous features"
      ]
    },
    {
      "cell_type": "markdown",
      "metadata": {
        "id": "lnZRz4sh0VfV"
      },
      "source": [
        "#### Rare features and spurious correlations"
      ]
    },
    {
      "cell_type": "markdown",
      "metadata": {
        "id": "hu82rlGM0VfX"
      },
      "source": [
        "**Adding white-noise channels or all-zeros channels to MNIST**"
      ]
    },
    {
      "cell_type": "code",
      "execution_count": 7,
      "metadata": {
        "id": "m_T4tNld0Vfa"
      },
      "outputs": [],
      "source": [
        "from tensorflow.keras.datasets import mnist\n",
        "import numpy as np\n",
        "\n",
        "(train_images, train_labels), _ = mnist.load_data()\n",
        "train_images = train_images.reshape((60000, 28 * 28))\n",
        "train_images = train_images.astype(\"float32\") / 255\n",
        "\n",
        "train_images_with_noise_channels = np.concatenate(\n",
        "    [train_images, np.random.random((len(train_images), 784))], axis=1)\n",
        "\n",
        "train_images_with_zeros_channels = np.concatenate(\n",
        "    [train_images, np.zeros((len(train_images), 784))], axis=1)"
      ]
    },
    {
      "cell_type": "markdown",
      "metadata": {
        "id": "zrF1_PsS0Vfe"
      },
      "source": [
        "**Training the same model on MNIST data with noise channels or all-zero channels**"
      ]
    },
    {
      "cell_type": "code",
      "execution_count": 8,
      "metadata": {
        "id": "h6uBIJqX0Vff",
        "outputId": "dc79c407-9551-408a-8608-4e377b6a5e88",
        "colab": {
          "base_uri": "https://localhost:8080/"
        }
      },
      "outputs": [
        {
          "output_type": "stream",
          "name": "stdout",
          "text": [
            "Epoch 1/10\n",
            "375/375 [==============================] - 2s 4ms/step - loss: 0.6275 - accuracy: 0.8064 - val_loss: 0.3621 - val_accuracy: 0.8798\n",
            "Epoch 2/10\n",
            "375/375 [==============================] - 1s 3ms/step - loss: 0.2578 - accuracy: 0.9209 - val_loss: 0.1918 - val_accuracy: 0.9420\n",
            "Epoch 3/10\n",
            "375/375 [==============================] - 1s 3ms/step - loss: 0.1676 - accuracy: 0.9479 - val_loss: 0.1446 - val_accuracy: 0.9569\n",
            "Epoch 4/10\n",
            "375/375 [==============================] - 1s 3ms/step - loss: 0.1199 - accuracy: 0.9627 - val_loss: 0.1596 - val_accuracy: 0.9515\n",
            "Epoch 5/10\n",
            "375/375 [==============================] - 1s 3ms/step - loss: 0.0901 - accuracy: 0.9722 - val_loss: 0.1188 - val_accuracy: 0.9660\n",
            "Epoch 6/10\n",
            "375/375 [==============================] - 1s 4ms/step - loss: 0.0669 - accuracy: 0.9784 - val_loss: 0.1275 - val_accuracy: 0.9650\n",
            "Epoch 7/10\n",
            "375/375 [==============================] - 2s 4ms/step - loss: 0.0475 - accuracy: 0.9849 - val_loss: 0.1337 - val_accuracy: 0.9628\n",
            "Epoch 8/10\n",
            "375/375 [==============================] - 1s 4ms/step - loss: 0.0375 - accuracy: 0.9882 - val_loss: 0.1184 - val_accuracy: 0.9682\n",
            "Epoch 9/10\n",
            "375/375 [==============================] - 1s 4ms/step - loss: 0.0268 - accuracy: 0.9919 - val_loss: 0.1277 - val_accuracy: 0.9684\n",
            "Epoch 10/10\n",
            "375/375 [==============================] - 1s 3ms/step - loss: 0.0205 - accuracy: 0.9939 - val_loss: 0.1605 - val_accuracy: 0.9584\n",
            "Epoch 1/10\n",
            "375/375 [==============================] - 2s 4ms/step - loss: 0.2931 - accuracy: 0.9152 - val_loss: 0.1449 - val_accuracy: 0.9590\n",
            "Epoch 2/10\n",
            "375/375 [==============================] - 1s 3ms/step - loss: 0.1203 - accuracy: 0.9649 - val_loss: 0.1034 - val_accuracy: 0.9702\n",
            "Epoch 3/10\n",
            "375/375 [==============================] - 1s 3ms/step - loss: 0.0785 - accuracy: 0.9772 - val_loss: 0.0972 - val_accuracy: 0.9699\n",
            "Epoch 4/10\n",
            "375/375 [==============================] - 2s 5ms/step - loss: 0.0563 - accuracy: 0.9833 - val_loss: 0.0809 - val_accuracy: 0.9772\n",
            "Epoch 5/10\n",
            "375/375 [==============================] - 1s 4ms/step - loss: 0.0421 - accuracy: 0.9879 - val_loss: 0.0825 - val_accuracy: 0.9754\n",
            "Epoch 6/10\n",
            "375/375 [==============================] - 1s 3ms/step - loss: 0.0319 - accuracy: 0.9908 - val_loss: 0.0740 - val_accuracy: 0.9771\n",
            "Epoch 7/10\n",
            "375/375 [==============================] - 1s 3ms/step - loss: 0.0244 - accuracy: 0.9932 - val_loss: 0.0696 - val_accuracy: 0.9798\n",
            "Epoch 8/10\n",
            "375/375 [==============================] - 1s 4ms/step - loss: 0.0179 - accuracy: 0.9955 - val_loss: 0.0721 - val_accuracy: 0.9800\n",
            "Epoch 9/10\n",
            "375/375 [==============================] - 1s 3ms/step - loss: 0.0135 - accuracy: 0.9967 - val_loss: 0.0755 - val_accuracy: 0.9795\n",
            "Epoch 10/10\n",
            "375/375 [==============================] - 1s 3ms/step - loss: 0.0100 - accuracy: 0.9979 - val_loss: 0.0730 - val_accuracy: 0.9807\n",
            "Epoch 1/10\n",
            "375/375 [==============================] - 2s 4ms/step - loss: 0.2952 - accuracy: 0.9155 - val_loss: 0.1449 - val_accuracy: 0.9588\n",
            "Epoch 2/10\n",
            "375/375 [==============================] - 1s 3ms/step - loss: 0.1232 - accuracy: 0.9633 - val_loss: 0.1178 - val_accuracy: 0.9659\n",
            "Epoch 3/10\n",
            "375/375 [==============================] - 1s 3ms/step - loss: 0.0803 - accuracy: 0.9768 - val_loss: 0.0992 - val_accuracy: 0.9704\n",
            "Epoch 4/10\n",
            "375/375 [==============================] - 1s 3ms/step - loss: 0.0578 - accuracy: 0.9827 - val_loss: 0.0824 - val_accuracy: 0.9752\n",
            "Epoch 5/10\n",
            "375/375 [==============================] - 1s 3ms/step - loss: 0.0422 - accuracy: 0.9880 - val_loss: 0.0774 - val_accuracy: 0.9774\n",
            "Epoch 6/10\n",
            "375/375 [==============================] - 1s 3ms/step - loss: 0.0327 - accuracy: 0.9906 - val_loss: 0.0787 - val_accuracy: 0.9767\n",
            "Epoch 7/10\n",
            "375/375 [==============================] - 2s 4ms/step - loss: 0.0238 - accuracy: 0.9933 - val_loss: 0.0758 - val_accuracy: 0.9770\n",
            "Epoch 8/10\n",
            "375/375 [==============================] - 1s 3ms/step - loss: 0.0178 - accuracy: 0.9954 - val_loss: 0.0792 - val_accuracy: 0.9777\n",
            "Epoch 9/10\n",
            "375/375 [==============================] - 1s 3ms/step - loss: 0.0141 - accuracy: 0.9964 - val_loss: 0.0734 - val_accuracy: 0.9804\n",
            "Epoch 10/10\n",
            "375/375 [==============================] - 1s 3ms/step - loss: 0.0102 - accuracy: 0.9978 - val_loss: 0.0854 - val_accuracy: 0.9778\n"
          ]
        }
      ],
      "source": [
        "from tensorflow import keras\n",
        "from tensorflow.keras import layers\n",
        "\n",
        "def get_model():\n",
        "    model = keras.Sequential([\n",
        "        layers.Dense(512, activation=\"relu\"),\n",
        "        layers.Dense(10, activation=\"softmax\")\n",
        "    ])\n",
        "    model.compile(optimizer=\"rmsprop\",\n",
        "                  loss=\"sparse_categorical_crossentropy\",\n",
        "                  metrics=[\"accuracy\"])\n",
        "    return model\n",
        "\n",
        "\n",
        "model = get_model()\n",
        "history_noise = model.fit(\n",
        "    train_images_with_noise_channels, train_labels,\n",
        "    epochs=10,\n",
        "    batch_size=128,\n",
        "    validation_split=0.2)\n",
        "\n",
        "model = get_model()\n",
        "history_zeros = model.fit(\n",
        "    train_images_with_zeros_channels, train_labels,\n",
        "    epochs=10,\n",
        "    batch_size=128,\n",
        "    validation_split=0.2)\n",
        "\n",
        "# 1- 1 추가\n",
        "model = get_model()\n",
        "history_original = model.fit(\n",
        "    train_images, train_labels,\n",
        "    epochs=10,\n",
        "    batch_size=128,\n",
        "    validation_split=0.2)"
      ]
    },
    {
      "cell_type": "markdown",
      "metadata": {
        "id": "TYSEkmtZ0Vfh"
      },
      "source": [
        "**Plotting a validation accuracy comparison**"
      ]
    },
    {
      "cell_type": "code",
      "execution_count": 12,
      "metadata": {
        "id": "paANUwZA0Vfi",
        "outputId": "d562af70-4dfa-4fd7-850f-cd84f03c3ebe",
        "colab": {
          "base_uri": "https://localhost:8080/",
          "height": 490
        }
      },
      "outputs": [
        {
          "output_type": "execute_result",
          "data": {
            "text/plain": [
              "<matplotlib.legend.Legend at 0x7fe2d69ff490>"
            ]
          },
          "metadata": {},
          "execution_count": 12
        },
        {
          "output_type": "display_data",
          "data": {
            "text/plain": [
              "<Figure size 640x480 with 1 Axes>"
            ],
            "image/png": "[encoded data removed]"
          },
          "metadata": {}
        }
      ],
      "source": [
        "import matplotlib.pyplot as plt\n",
        "val_acc_noise = history_noise.history[\"val_accuracy\"]\n",
        "val_acc_zeros = history_zeros.history[\"val_accuracy\"]\n",
        "val_acc_original = history_original.history[\"val_accuracy\"] # 1- 1 추가\n",
        "epochs = range(1, 11)\n",
        "plt.plot(epochs, val_acc_noise, \"b-\",\n",
        "         label=\"Validation accuracy with noise channels\")\n",
        "plt.plot(epochs, val_acc_zeros, \"b--\",\n",
        "         label=\"Validation accuracy with zeros channels\")\n",
        "plt.plot(epochs, val_acc_original, \"r--\",\n",
        "         label=\"Validation accuracy with zeros channels\") # 1- 1 추가\n",
        "plt.title(\"Effect of noise channels on validation accuracy\")\n",
        "plt.xlabel(\"Epochs\")\n",
        "plt.ylabel(\"Accuracy\")\n",
        "plt.legend()"
      ]
    },
    {
      "cell_type": "markdown",
      "metadata": {
        "id": "sDo59Ik40Vfj"
      },
      "source": [
        "### The nature of generalization in deep learning"
      ]
    },
    {
      "cell_type": "markdown",
      "metadata": {
        "id": "iQFildww0Vfk"
      },
      "source": [
        "**Fitting a MNIST model with randomly shuffled labels**"
      ]
    },
    {
      "cell_type": "code",
      "execution_count": 15,
      "metadata": {
        "id": "cYK5NwKx0Vfl",
        "outputId": "99d7113c-2063-40e9-b625-9310d466a10e",
        "colab": {
          "base_uri": "https://localhost:8080/"
        }
      },
      "outputs": [
        {
          "output_type": "stream",
          "name": "stdout",
          "text": [
            "Epoch 1/100\n",
            "375/375 [==============================] - 2s 4ms/step - loss: 2.3159 - accuracy: 0.1032 - val_loss: 2.3072 - val_accuracy: 0.1088\n",
            "Epoch 2/100\n",
            "375/375 [==============================] - 2s 5ms/step - loss: 2.2996 - accuracy: 0.1187 - val_loss: 2.3084 - val_accuracy: 0.1038\n",
            "Epoch 3/100\n",
            "375/375 [==============================] - 2s 6ms/step - loss: 2.2915 - accuracy: 0.1282 - val_loss: 2.3173 - val_accuracy: 0.1029\n",
            "Epoch 4/100\n",
            "375/375 [==============================] - 1s 4ms/step - loss: 2.2794 - accuracy: 0.1379 - val_loss: 2.3241 - val_accuracy: 0.1038\n",
            "Epoch 5/100\n",
            "375/375 [==============================] - 1s 3ms/step - loss: 2.2643 - accuracy: 0.1527 - val_loss: 2.3293 - val_accuracy: 0.1063\n",
            "Epoch 6/100\n",
            "375/375 [==============================] - 1s 3ms/step - loss: 2.2432 - accuracy: 0.1676 - val_loss: 2.3450 - val_accuracy: 0.1032\n",
            "Epoch 7/100\n",
            "375/375 [==============================] - 1s 3ms/step - loss: 2.2194 - accuracy: 0.1824 - val_loss: 2.3670 - val_accuracy: 0.1033\n",
            "Epoch 8/100\n",
            "375/375 [==============================] - 1s 3ms/step - loss: 2.1929 - accuracy: 0.1980 - val_loss: 2.3822 - val_accuracy: 0.1006\n",
            "Epoch 9/100\n",
            "375/375 [==============================] - 1s 3ms/step - loss: 2.1652 - accuracy: 0.2105 - val_loss: 2.3979 - val_accuracy: 0.0946\n",
            "Epoch 10/100\n",
            "375/375 [==============================] - 1s 3ms/step - loss: 2.1318 - accuracy: 0.2290 - val_loss: 2.4099 - val_accuracy: 0.0986\n",
            "Epoch 11/100\n",
            "375/375 [==============================] - 2s 5ms/step - loss: 2.0976 - accuracy: 0.2443 - val_loss: 2.4499 - val_accuracy: 0.1020\n",
            "Epoch 12/100\n",
            "375/375 [==============================] - 1s 4ms/step - loss: 2.0613 - accuracy: 0.2625 - val_loss: 2.4694 - val_accuracy: 0.1005\n",
            "Epoch 13/100\n",
            "375/375 [==============================] - 1s 4ms/step - loss: 2.0223 - accuracy: 0.2801 - val_loss: 2.5007 - val_accuracy: 0.1025\n",
            "Epoch 14/100\n",
            "375/375 [==============================] - 1s 3ms/step - loss: 1.9842 - accuracy: 0.2975 - val_loss: 2.5326 - val_accuracy: 0.1022\n",
            "Epoch 15/100\n",
            "375/375 [==============================] - 1s 3ms/step - loss: 1.9445 - accuracy: 0.3140 - val_loss: 2.5525 - val_accuracy: 0.1047\n",
            "Epoch 16/100\n",
            "375/375 [==============================] - 1s 4ms/step - loss: 1.9047 - accuracy: 0.3311 - val_loss: 2.6038 - val_accuracy: 0.1045\n",
            "Epoch 17/100\n",
            "375/375 [==============================] - 1s 3ms/step - loss: 1.8659 - accuracy: 0.3453 - val_loss: 2.6329 - val_accuracy: 0.1019\n",
            "Epoch 18/100\n",
            "375/375 [==============================] - 1s 3ms/step - loss: 1.8257 - accuracy: 0.3622 - val_loss: 2.6757 - val_accuracy: 0.0998\n",
            "Epoch 19/100\n",
            "375/375 [==============================] - 1s 3ms/step - loss: 1.7872 - accuracy: 0.3802 - val_loss: 2.6994 - val_accuracy: 0.1021\n",
            "Epoch 20/100\n",
            "375/375 [==============================] - 2s 4ms/step - loss: 1.7478 - accuracy: 0.3924 - val_loss: 2.7544 - val_accuracy: 0.1032\n",
            "Epoch 21/100\n",
            "375/375 [==============================] - 2s 4ms/step - loss: 1.7110 - accuracy: 0.4074 - val_loss: 2.7858 - val_accuracy: 0.1037\n",
            "Epoch 22/100\n",
            "375/375 [==============================] - 1s 3ms/step - loss: 1.6739 - accuracy: 0.4220 - val_loss: 2.8310 - val_accuracy: 0.1051\n",
            "Epoch 23/100\n",
            "375/375 [==============================] - 1s 3ms/step - loss: 1.6364 - accuracy: 0.4370 - val_loss: 2.8806 - val_accuracy: 0.1018\n",
            "Epoch 24/100\n",
            "375/375 [==============================] - 1s 3ms/step - loss: 1.5993 - accuracy: 0.4489 - val_loss: 2.9167 - val_accuracy: 0.1012\n",
            "Epoch 25/100\n",
            "375/375 [==============================] - 1s 3ms/step - loss: 1.5658 - accuracy: 0.4635 - val_loss: 2.9624 - val_accuracy: 0.1053\n",
            "Epoch 26/100\n",
            "375/375 [==============================] - 1s 3ms/step - loss: 1.5293 - accuracy: 0.4774 - val_loss: 3.0148 - val_accuracy: 0.1007\n",
            "Epoch 27/100\n",
            "375/375 [==============================] - 1s 3ms/step - loss: 1.4976 - accuracy: 0.4895 - val_loss: 3.0797 - val_accuracy: 0.1032\n",
            "Epoch 28/100\n",
            "375/375 [==============================] - 1s 3ms/step - loss: 1.4640 - accuracy: 0.5014 - val_loss: 3.1016 - val_accuracy: 0.1065\n",
            "Epoch 29/100\n",
            "375/375 [==============================] - 1s 3ms/step - loss: 1.4329 - accuracy: 0.5117 - val_loss: 3.1290 - val_accuracy: 0.1038\n",
            "Epoch 30/100\n",
            "375/375 [==============================] - 2s 5ms/step - loss: 1.4007 - accuracy: 0.5267 - val_loss: 3.1902 - val_accuracy: 0.1013\n",
            "Epoch 31/100\n",
            "375/375 [==============================] - 1s 4ms/step - loss: 1.3681 - accuracy: 0.5385 - val_loss: 3.2518 - val_accuracy: 0.1032\n",
            "Epoch 32/100\n",
            "375/375 [==============================] - 1s 3ms/step - loss: 1.3409 - accuracy: 0.5472 - val_loss: 3.3372 - val_accuracy: 0.1002\n",
            "Epoch 33/100\n",
            "375/375 [==============================] - 1s 3ms/step - loss: 1.3134 - accuracy: 0.5574 - val_loss: 3.3598 - val_accuracy: 0.1024\n",
            "Epoch 34/100\n",
            "375/375 [==============================] - 1s 3ms/step - loss: 1.2837 - accuracy: 0.5689 - val_loss: 3.4013 - val_accuracy: 0.1063\n",
            "Epoch 35/100\n",
            "375/375 [==============================] - 1s 3ms/step - loss: 1.2574 - accuracy: 0.5788 - val_loss: 3.4965 - val_accuracy: 0.0999\n",
            "Epoch 36/100\n",
            "375/375 [==============================] - 1s 3ms/step - loss: 1.2295 - accuracy: 0.5876 - val_loss: 3.5302 - val_accuracy: 0.1035\n",
            "Epoch 37/100\n",
            "375/375 [==============================] - 1s 3ms/step - loss: 1.2019 - accuracy: 0.5981 - val_loss: 3.5771 - val_accuracy: 0.1070\n",
            "Epoch 38/100\n",
            "375/375 [==============================] - 1s 3ms/step - loss: 1.1771 - accuracy: 0.6048 - val_loss: 3.6273 - val_accuracy: 0.1054\n",
            "Epoch 39/100\n",
            "375/375 [==============================] - 2s 4ms/step - loss: 1.1526 - accuracy: 0.6169 - val_loss: 3.6950 - val_accuracy: 0.1010\n",
            "Epoch 40/100\n",
            "375/375 [==============================] - 2s 5ms/step - loss: 1.1290 - accuracy: 0.6241 - val_loss: 3.7460 - val_accuracy: 0.1038\n",
            "Epoch 41/100\n",
            "375/375 [==============================] - 1s 3ms/step - loss: 1.1047 - accuracy: 0.6315 - val_loss: 3.7911 - val_accuracy: 0.1018\n",
            "Epoch 42/100\n",
            "375/375 [==============================] - 1s 3ms/step - loss: 1.0840 - accuracy: 0.6402 - val_loss: 3.8722 - val_accuracy: 0.1052\n",
            "Epoch 43/100\n",
            "375/375 [==============================] - 1s 3ms/step - loss: 1.0597 - accuracy: 0.6487 - val_loss: 3.9567 - val_accuracy: 0.1057\n",
            "Epoch 44/100\n",
            "375/375 [==============================] - 1s 3ms/step - loss: 1.0357 - accuracy: 0.6574 - val_loss: 4.0216 - val_accuracy: 0.1071\n",
            "Epoch 45/100\n",
            "375/375 [==============================] - 1s 3ms/step - loss: 1.0163 - accuracy: 0.6640 - val_loss: 4.0835 - val_accuracy: 0.1059\n",
            "Epoch 46/100\n",
            "375/375 [==============================] - 1s 3ms/step - loss: 0.9976 - accuracy: 0.6699 - val_loss: 4.1343 - val_accuracy: 0.1073\n",
            "Epoch 47/100\n",
            "375/375 [==============================] - 1s 3ms/step - loss: 0.9737 - accuracy: 0.6798 - val_loss: 4.1453 - val_accuracy: 0.1069\n",
            "Epoch 48/100\n",
            "375/375 [==============================] - 2s 4ms/step - loss: 0.9551 - accuracy: 0.6838 - val_loss: 4.2571 - val_accuracy: 0.1078\n",
            "Epoch 49/100\n",
            "375/375 [==============================] - 2s 4ms/step - loss: 0.9344 - accuracy: 0.6927 - val_loss: 4.3071 - val_accuracy: 0.1063\n",
            "Epoch 50/100\n",
            "375/375 [==============================] - 1s 3ms/step - loss: 0.9151 - accuracy: 0.6997 - val_loss: 4.3814 - val_accuracy: 0.1078\n",
            "Epoch 51/100\n",
            "375/375 [==============================] - 1s 3ms/step - loss: 0.8960 - accuracy: 0.7045 - val_loss: 4.4510 - val_accuracy: 0.1047\n",
            "Epoch 52/100\n",
            "375/375 [==============================] - 1s 3ms/step - loss: 0.8780 - accuracy: 0.7115 - val_loss: 4.5419 - val_accuracy: 0.1033\n",
            "Epoch 53/100\n",
            "375/375 [==============================] - 1s 3ms/step - loss: 0.8619 - accuracy: 0.7175 - val_loss: 4.5886 - val_accuracy: 0.1057\n",
            "Epoch 54/100\n",
            "375/375 [==============================] - 1s 3ms/step - loss: 0.8432 - accuracy: 0.7233 - val_loss: 4.6429 - val_accuracy: 0.1078\n",
            "Epoch 55/100\n",
            "375/375 [==============================] - 1s 3ms/step - loss: 0.8264 - accuracy: 0.7287 - val_loss: 4.7254 - val_accuracy: 0.1051\n",
            "Epoch 56/100\n",
            "375/375 [==============================] - 1s 3ms/step - loss: 0.8091 - accuracy: 0.7363 - val_loss: 4.7714 - val_accuracy: 0.1032\n",
            "Epoch 57/100\n",
            "375/375 [==============================] - 1s 4ms/step - loss: 0.7941 - accuracy: 0.7442 - val_loss: 4.8728 - val_accuracy: 0.1057\n",
            "Epoch 58/100\n",
            "375/375 [==============================] - 2s 5ms/step - loss: 0.7802 - accuracy: 0.7456 - val_loss: 4.8968 - val_accuracy: 0.1029\n",
            "Epoch 59/100\n",
            "375/375 [==============================] - 1s 3ms/step - loss: 0.7635 - accuracy: 0.7541 - val_loss: 5.0427 - val_accuracy: 0.1037\n",
            "Epoch 60/100\n",
            "375/375 [==============================] - 1s 3ms/step - loss: 0.7479 - accuracy: 0.7593 - val_loss: 5.0333 - val_accuracy: 0.1107\n",
            "Epoch 61/100\n",
            "375/375 [==============================] - 1s 3ms/step - loss: 0.7352 - accuracy: 0.7606 - val_loss: 5.0827 - val_accuracy: 0.1057\n",
            "Epoch 62/100\n",
            "375/375 [==============================] - 1s 3ms/step - loss: 0.7177 - accuracy: 0.7667 - val_loss: 5.1772 - val_accuracy: 0.1063\n",
            "Epoch 63/100\n",
            "375/375 [==============================] - 1s 3ms/step - loss: 0.7036 - accuracy: 0.7730 - val_loss: 5.2520 - val_accuracy: 0.1005\n",
            "Epoch 64/100\n",
            "375/375 [==============================] - 1s 3ms/step - loss: 0.6910 - accuracy: 0.7764 - val_loss: 5.3522 - val_accuracy: 0.1058\n",
            "Epoch 65/100\n",
            "375/375 [==============================] - 1s 3ms/step - loss: 0.6788 - accuracy: 0.7796 - val_loss: 5.3686 - val_accuracy: 0.1071\n",
            "Epoch 66/100\n",
            "375/375 [==============================] - 1s 3ms/step - loss: 0.6633 - accuracy: 0.7874 - val_loss: 5.4828 - val_accuracy: 0.1010\n",
            "Epoch 67/100\n",
            "375/375 [==============================] - 2s 4ms/step - loss: 0.6507 - accuracy: 0.7916 - val_loss: 5.5474 - val_accuracy: 0.1005\n",
            "Epoch 68/100\n",
            "375/375 [==============================] - 2s 5ms/step - loss: 0.6378 - accuracy: 0.7945 - val_loss: 5.5617 - val_accuracy: 0.1052\n",
            "Epoch 69/100\n",
            "375/375 [==============================] - 1s 4ms/step - loss: 0.6272 - accuracy: 0.7973 - val_loss: 5.6849 - val_accuracy: 0.1038\n",
            "Epoch 70/100\n",
            "375/375 [==============================] - 1s 3ms/step - loss: 0.6170 - accuracy: 0.8014 - val_loss: 5.7291 - val_accuracy: 0.1065\n",
            "Epoch 71/100\n",
            "375/375 [==============================] - 1s 3ms/step - loss: 0.6031 - accuracy: 0.8062 - val_loss: 5.7696 - val_accuracy: 0.1047\n",
            "Epoch 72/100\n",
            "375/375 [==============================] - 2s 5ms/step - loss: 0.5916 - accuracy: 0.8112 - val_loss: 5.9362 - val_accuracy: 0.1032\n",
            "Epoch 73/100\n",
            "375/375 [==============================] - 2s 4ms/step - loss: 0.5798 - accuracy: 0.8165 - val_loss: 5.9791 - val_accuracy: 0.1026\n",
            "Epoch 74/100\n",
            "375/375 [==============================] - 1s 3ms/step - loss: 0.5670 - accuracy: 0.8201 - val_loss: 6.0390 - val_accuracy: 0.1035\n",
            "Epoch 75/100\n",
            "375/375 [==============================] - 1s 3ms/step - loss: 0.5539 - accuracy: 0.8233 - val_loss: 6.1282 - val_accuracy: 0.1057\n",
            "Epoch 76/100\n",
            "375/375 [==============================] - 2s 5ms/step - loss: 0.5458 - accuracy: 0.8258 - val_loss: 6.2393 - val_accuracy: 0.1030\n",
            "Epoch 77/100\n",
            "375/375 [==============================] - 1s 4ms/step - loss: 0.5368 - accuracy: 0.8289 - val_loss: 6.2781 - val_accuracy: 0.1045\n",
            "Epoch 78/100\n",
            "375/375 [==============================] - 1s 3ms/step - loss: 0.5237 - accuracy: 0.8352 - val_loss: 6.3460 - val_accuracy: 0.1053\n",
            "Epoch 79/100\n",
            "375/375 [==============================] - 1s 3ms/step - loss: 0.5163 - accuracy: 0.8380 - val_loss: 6.4174 - val_accuracy: 0.1031\n",
            "Epoch 80/100\n",
            "375/375 [==============================] - 1s 3ms/step - loss: 0.5068 - accuracy: 0.8388 - val_loss: 6.4870 - val_accuracy: 0.1056\n",
            "Epoch 81/100\n",
            "375/375 [==============================] - 1s 3ms/step - loss: 0.4957 - accuracy: 0.8428 - val_loss: 6.5769 - val_accuracy: 0.1058\n",
            "Epoch 82/100\n",
            "375/375 [==============================] - 1s 3ms/step - loss: 0.4869 - accuracy: 0.8467 - val_loss: 6.6150 - val_accuracy: 0.1037\n",
            "Epoch 83/100\n",
            "375/375 [==============================] - 1s 3ms/step - loss: 0.4788 - accuracy: 0.8480 - val_loss: 6.6869 - val_accuracy: 0.1031\n",
            "Epoch 84/100\n",
            "375/375 [==============================] - 1s 3ms/step - loss: 0.4687 - accuracy: 0.8530 - val_loss: 6.7632 - val_accuracy: 0.1028\n",
            "Epoch 85/100\n",
            "375/375 [==============================] - 2s 4ms/step - loss: 0.4604 - accuracy: 0.8559 - val_loss: 6.8394 - val_accuracy: 0.1029\n",
            "Epoch 86/100\n",
            "375/375 [==============================] - 2s 4ms/step - loss: 0.4509 - accuracy: 0.8583 - val_loss: 6.9469 - val_accuracy: 0.1010\n",
            "Epoch 87/100\n",
            "375/375 [==============================] - 1s 3ms/step - loss: 0.4428 - accuracy: 0.8622 - val_loss: 6.9570 - val_accuracy: 0.1068\n",
            "Epoch 88/100\n",
            "375/375 [==============================] - 1s 3ms/step - loss: 0.4366 - accuracy: 0.8631 - val_loss: 7.0717 - val_accuracy: 0.0987\n",
            "Epoch 89/100\n",
            "375/375 [==============================] - 1s 3ms/step - loss: 0.4285 - accuracy: 0.8664 - val_loss: 7.1541 - val_accuracy: 0.1021\n",
            "Epoch 90/100\n",
            "375/375 [==============================] - 1s 3ms/step - loss: 0.4198 - accuracy: 0.8694 - val_loss: 7.1884 - val_accuracy: 0.1026\n",
            "Epoch 91/100\n",
            "375/375 [==============================] - 1s 3ms/step - loss: 0.4137 - accuracy: 0.8700 - val_loss: 7.2755 - val_accuracy: 0.1048\n",
            "Epoch 92/100\n",
            "375/375 [==============================] - 1s 3ms/step - loss: 0.4077 - accuracy: 0.8735 - val_loss: 7.3785 - val_accuracy: 0.1025\n",
            "Epoch 93/100\n",
            "375/375 [==============================] - 1s 3ms/step - loss: 0.3974 - accuracy: 0.8783 - val_loss: 7.4256 - val_accuracy: 0.1037\n",
            "Epoch 94/100\n",
            "375/375 [==============================] - 1s 4ms/step - loss: 0.3912 - accuracy: 0.8780 - val_loss: 7.5570 - val_accuracy: 0.1061\n",
            "Epoch 95/100\n",
            "375/375 [==============================] - 2s 5ms/step - loss: 0.3844 - accuracy: 0.8796 - val_loss: 7.6068 - val_accuracy: 0.1040\n",
            "Epoch 96/100\n",
            "375/375 [==============================] - 1s 3ms/step - loss: 0.3752 - accuracy: 0.8850 - val_loss: 7.6513 - val_accuracy: 0.1034\n",
            "Epoch 97/100\n",
            "375/375 [==============================] - 1s 3ms/step - loss: 0.3708 - accuracy: 0.8862 - val_loss: 7.7506 - val_accuracy: 0.1053\n",
            "Epoch 98/100\n",
            "375/375 [==============================] - 1s 3ms/step - loss: 0.3631 - accuracy: 0.8867 - val_loss: 7.8081 - val_accuracy: 0.1029\n",
            "Epoch 99/100\n",
            "375/375 [==============================] - 1s 3ms/step - loss: 0.3585 - accuracy: 0.8896 - val_loss: 7.8874 - val_accuracy: 0.1042\n",
            "Epoch 100/100\n",
            "375/375 [==============================] - 1s 3ms/step - loss: 0.3497 - accuracy: 0.8923 - val_loss: 8.0039 - val_accuracy: 0.1048\n"
          ]
        }
      ],
      "source": [
        "(train_images, train_labels), _ = mnist.load_data()\n",
        "train_images = train_images.reshape((60000, 28 * 28))\n",
        "train_images = train_images.astype(\"float32\") / 255\n",
        "\n",
        "random_train_labels = train_labels[:]\n",
        "np.random.shuffle(random_train_labels)\n",
        "\n",
        "model = keras.Sequential([\n",
        "    layers.Dense(512, activation=\"relu\"),\n",
        "    layers.Dense(10, activation=\"softmax\")\n",
        "])\n",
        "model.compile(optimizer=\"rmsprop\",\n",
        "              loss=\"sparse_categorical_crossentropy\",\n",
        "              metrics=[\"accuracy\"])\n",
        "history_hyun=model.fit(train_images, random_train_labels,\n",
        "          epochs=100,\n",
        "          batch_size=128,\n",
        "          validation_split=0.2)"
      ]
    },
    {
      "cell_type": "code",
      "source": [
        "import matplotlib.pyplot as plt\n",
        "train_acc=history_hyun.history['accuracy']\n",
        "val_acc_history_hyun= history_hyun.history[\"val_accuracy\"]\n",
        "epochs = range(1, 101)\n",
        "plt.plot(epochs, train_acc, \"r--\",\n",
        "         label=\"train_acc\")\n",
        "plt.plot(epochs, val_acc_history_hyun, \"b--\",\n",
        "         label=\"val_acc_history_hyun\")\n",
        "\n",
        "plt.title(\"Effect of noise channels on validation accuracy\")\n",
        "plt.xlabel(\"Epochs\")\n",
        "plt.ylabel(\"Accuracy\")\n",
        "plt.legend()"
      ],
      "metadata": {
        "id": "sRFPJdhL7LW0",
        "outputId": "08a08497-399f-437c-f5a0-f675abed7a74",
        "colab": {
          "base_uri": "https://localhost:8080/",
          "height": 490
        }
      },
      "execution_count": 22,
      "outputs": [
        {
          "output_type": "execute_result",
          "data": {
            "text/plain": [
              "<matplotlib.legend.Legend at 0x7fe2d4c9e910>"
            ]
          },
          "metadata": {},
          "execution_count": 22
        },
        {
          "output_type": "display_data",
          "data": {
            "text/plain": [
              "<Figure size 640x480 with 1 Axes>"
            ],
            "image/png": "[encoded data removed]"
          },
          "metadata": {}
        }
      ]
    },
    {
      "cell_type": "markdown",
      "metadata": {
        "id": "40if138-0Vfn"
      },
      "source": [
        "#### The manifold hypothesis"
      ]
    },
    {
      "cell_type": "markdown",
      "metadata": {
        "id": "A_4r_gJ90Vfo"
      },
      "source": [
        "#### Interpolation as a source of generalization"
      ]
    },
    {
      "cell_type": "markdown",
      "metadata": {
        "id": "Z4yrDBX_0Vfp"
      },
      "source": [
        "#### Why deep learning works"
      ]
    },
    {
      "cell_type": "markdown",
      "metadata": {
        "id": "nRCXTHIF0Vfq"
      },
      "source": [
        "#### Training data is paramount"
      ]
    },
    {
      "cell_type": "markdown",
      "metadata": {
        "id": "vMOpsBp10Vfs"
      },
      "source": [
        "## Evaluating machine-learning models"
      ]
    },
    {
      "cell_type": "markdown",
      "metadata": {
        "id": "KkLvTdLV0Vft"
      },
      "source": [
        "### Training, validation, and test sets"
      ]
    },
    {
      "cell_type": "markdown",
      "metadata": {
        "id": "H8-9nYSD0Vfu"
      },
      "source": [
        "#### Simple hold-out validation"
      ]
    },
    {
      "cell_type": "markdown",
      "metadata": {
        "id": "-PX-dYO_0Vfu"
      },
      "source": [
        "#### K-fold validation"
      ]
    },
    {
      "cell_type": "markdown",
      "metadata": {
        "id": "kpvmPx8J0Vfv"
      },
      "source": [
        "#### Iterated K-fold validation with shuffling"
      ]
    },
    {
      "cell_type": "markdown",
      "metadata": {
        "id": "k7skpJln0Vfw"
      },
      "source": [
        "### Beating a common-sense baseline"
      ]
    },
    {
      "cell_type": "markdown",
      "metadata": {
        "id": "k8aASAuA0Vfx"
      },
      "source": [
        "### Things to keep in mind about model evaluation"
      ]
    },
    {
      "cell_type": "markdown",
      "metadata": {
        "id": "GEcESksL0Vfx"
      },
      "source": [
        "## Improving model fit"
      ]
    },
    {
      "cell_type": "markdown",
      "metadata": {
        "id": "r32ijGK10Vfy"
      },
      "source": [
        "### Tuning key gradient descent parameters"
      ]
    },
    {
      "cell_type": "markdown",
      "metadata": {
        "id": "Q0_lHhaE0Vfy"
      },
      "source": [
        "**Training a MNIST model with an incorrectly high learning rate**"
      ]
    },
    {
      "cell_type": "code",
      "execution_count": 13,
      "metadata": {
        "id": "Rn7cMdFO0Vfz",
        "outputId": "6afefee1-21c6-452d-affd-d7bd3015a8ee",
        "colab": {
          "base_uri": "https://localhost:8080/"
        }
      },
      "outputs": [
        {
          "output_type": "stream",
          "name": "stdout",
          "text": [
            "Epoch 1/10\n",
            "375/375 [==============================] - 2s 4ms/step - loss: 597.9506 - accuracy: 0.2935 - val_loss: 2.2984 - val_accuracy: 0.2096\n",
            "Epoch 2/10\n",
            "375/375 [==============================] - 1s 3ms/step - loss: 3.1459 - accuracy: 0.2083 - val_loss: 2.3493 - val_accuracy: 0.1797\n",
            "Epoch 3/10\n",
            "375/375 [==============================] - 1s 3ms/step - loss: 2.7389 - accuracy: 0.1793 - val_loss: 2.2665 - val_accuracy: 0.1586\n",
            "Epoch 4/10\n",
            "375/375 [==============================] - 1s 3ms/step - loss: 2.4280 - accuracy: 0.1857 - val_loss: 2.4902 - val_accuracy: 0.1877\n",
            "Epoch 5/10\n",
            "375/375 [==============================] - 1s 3ms/step - loss: 2.6432 - accuracy: 0.1936 - val_loss: 2.1561 - val_accuracy: 0.2002\n",
            "Epoch 6/10\n",
            "375/375 [==============================] - 2s 4ms/step - loss: 2.5017 - accuracy: 0.1982 - val_loss: 2.2911 - val_accuracy: 0.1717\n",
            "Epoch 7/10\n",
            "375/375 [==============================] - 1s 3ms/step - loss: 2.4002 - accuracy: 0.1860 - val_loss: 2.2889 - val_accuracy: 0.1947\n",
            "Epoch 8/10\n",
            "375/375 [==============================] - 1s 3ms/step - loss: 2.4784 - accuracy: 0.2006 - val_loss: 2.4768 - val_accuracy: 0.1951\n",
            "Epoch 9/10\n",
            "375/375 [==============================] - 2s 4ms/step - loss: 2.4912 - accuracy: 0.2069 - val_loss: 2.2506 - val_accuracy: 0.2237\n",
            "Epoch 10/10\n",
            "375/375 [==============================] - 1s 3ms/step - loss: 2.3833 - accuracy: 0.1960 - val_loss: 2.0807 - val_accuracy: 0.2104\n"
          ]
        },
        {
          "output_type": "execute_result",
          "data": {
            "text/plain": [
              "<keras.callbacks.History at 0x7fe2d6986df0>"
            ]
          },
          "metadata": {},
          "execution_count": 13
        }
      ],
      "source": [
        "(train_images, train_labels), _ = mnist.load_data()\n",
        "train_images = train_images.reshape((60000, 28 * 28))\n",
        "train_images = train_images.astype(\"float32\") / 255\n",
        "\n",
        "model = keras.Sequential([\n",
        "    layers.Dense(512, activation=\"relu\"),\n",
        "    layers.Dense(10, activation=\"softmax\")\n",
        "])\n",
        "model.compile(optimizer=keras.optimizers.RMSprop(1.),\n",
        "              loss=\"sparse_categorical_crossentropy\",\n",
        "              metrics=[\"accuracy\"])\n",
        "model.fit(train_images, train_labels,\n",
        "          epochs=10,\n",
        "          batch_size=128,\n",
        "          validation_split=0.2)"
      ]
    },
    {
      "cell_type": "markdown",
      "metadata": {
        "id": "jIOO7_g30Vf0"
      },
      "source": [
        "**The same model with a more appropriate learning rate**"
      ]
    },
    {
      "cell_type": "code",
      "execution_count": null,
      "metadata": {
        "id": "fZI62gV30Vf0"
      },
      "outputs": [],
      "source": [
        "model = keras.Sequential([\n",
        "    layers.Dense(512, activation=\"relu\"),\n",
        "    layers.Dense(10, activation=\"softmax\")\n",
        "])\n",
        "model.compile(optimizer=keras.optimizers.RMSprop(1e-2),\n",
        "              loss=\"sparse_categorical_crossentropy\",\n",
        "              metrics=[\"accuracy\"])\n",
        "model.fit(train_images, train_labels,\n",
        "          epochs=10,\n",
        "          batch_size=128,\n",
        "          validation_split=0.2)"
      ]
    },
    {
      "cell_type": "markdown",
      "metadata": {
        "id": "O9VsrNYc0Vf2"
      },
      "source": [
        "### Leveraging better architecture priors"
      ]
    },
    {
      "cell_type": "markdown",
      "metadata": {
        "id": "TV6u0wKQ0Vf3"
      },
      "source": [
        "### Increasing model capacity"
      ]
    },
    {
      "cell_type": "markdown",
      "metadata": {
        "id": "oZ_tE2gC0Vf4"
      },
      "source": [
        "**A simple logistic regression on MNIST**"
      ]
    },
    {
      "cell_type": "code",
      "execution_count": null,
      "metadata": {
        "id": "xEtbeLAM0Vf6"
      },
      "outputs": [],
      "source": [
        "model = keras.Sequential([layers.Dense(10, activation=\"softmax\")])\n",
        "model.compile(optimizer=\"rmsprop\",\n",
        "              loss=\"sparse_categorical_crossentropy\",\n",
        "              metrics=[\"accuracy\"])\n",
        "history_small_model = model.fit(\n",
        "    train_images, train_labels,\n",
        "    epochs=20,\n",
        "    batch_size=128,\n",
        "    validation_split=0.2)"
      ]
    },
    {
      "cell_type": "code",
      "execution_count": null,
      "metadata": {
        "id": "BoZF0kg60Vf7"
      },
      "outputs": [],
      "source": [
        "import matplotlib.pyplot as plt\n",
        "val_loss = history_small_model.history[\"val_loss\"]\n",
        "epochs = range(1, 21)\n",
        "plt.plot(epochs, val_loss, \"b--\",\n",
        "         label=\"Validation loss\")\n",
        "plt.title(\"Effect of insufficient model capacity on validation loss\")\n",
        "plt.xlabel(\"Epochs\")\n",
        "plt.ylabel(\"Loss\")\n",
        "plt.legend()"
      ]
    },
    {
      "cell_type": "code",
      "execution_count": null,
      "metadata": {
        "id": "alvZ607v0Vf7"
      },
      "outputs": [],
      "source": [
        "model = keras.Sequential([\n",
        "    layers.Dense(96, activation=\"relu\"),\n",
        "    layers.Dense(96, activation=\"relu\"),\n",
        "    layers.Dense(10, activation=\"softmax\"),\n",
        "])\n",
        "model.compile(optimizer=\"rmsprop\",\n",
        "              loss=\"sparse_categorical_crossentropy\",\n",
        "              metrics=[\"accuracy\"])\n",
        "history_large_model = model.fit(\n",
        "    train_images, train_labels,\n",
        "    epochs=20,\n",
        "    batch_size=128,\n",
        "    validation_split=0.2)"
      ]
    },
    {
      "cell_type": "markdown",
      "metadata": {
        "id": "QX9Q8E-x0Vf8"
      },
      "source": [
        "## Improving generalization"
      ]
    },
    {
      "cell_type": "markdown",
      "metadata": {
        "id": "1fQIR9kk0Vf9"
      },
      "source": [
        "### Dataset curation"
      ]
    },
    {
      "cell_type": "markdown",
      "metadata": {
        "id": "Lickunhi0Vf9"
      },
      "source": [
        "### Feature engineering"
      ]
    },
    {
      "cell_type": "markdown",
      "metadata": {
        "id": "HWDshWjh0Vf-"
      },
      "source": [
        "### Using early stopping"
      ]
    },
    {
      "cell_type": "markdown",
      "metadata": {
        "id": "cKqNxmPt0Vf_"
      },
      "source": [
        "### Regularizing your model"
      ]
    },
    {
      "cell_type": "markdown",
      "metadata": {
        "id": "rvh4bK980Vf_"
      },
      "source": [
        "#### Reducing the network's size"
      ]
    },
    {
      "cell_type": "markdown",
      "metadata": {
        "id": "dYCaQEnl0Vf_"
      },
      "source": [
        "**Original model**"
      ]
    },
    {
      "cell_type": "code",
      "execution_count": null,
      "metadata": {
        "id": "pAcPIYdS0VgA"
      },
      "outputs": [],
      "source": [
        "from tensorflow.keras.datasets import imdb\n",
        "(train_data, train_labels), _ = imdb.load_data(num_words=10000)\n",
        "\n",
        "def vectorize_sequences(sequences, dimension=10000):\n",
        "    results = np.zeros((len(sequences), dimension))\n",
        "    for i, sequence in enumerate(sequences):\n",
        "        results[i, sequence] = 1.\n",
        "    return results\n",
        "train_data = vectorize_sequences(train_data)\n",
        "\n",
        "model = keras.Sequential([\n",
        "    layers.Dense(16, activation=\"relu\"),\n",
        "    layers.Dense(16, activation=\"relu\"),\n",
        "    layers.Dense(1, activation=\"sigmoid\")\n",
        "])\n",
        "model.compile(optimizer=\"rmsprop\",\n",
        "              loss=\"binary_crossentropy\",\n",
        "              metrics=[\"accuracy\"])\n",
        "history_original = model.fit(train_data, train_labels,\n",
        "                             epochs=20, batch_size=512, validation_split=0.4)"
      ]
    },
    {
      "cell_type": "markdown",
      "metadata": {
        "id": "DHYnX-FD0VgB"
      },
      "source": [
        "**Version of the model with lower capacity**"
      ]
    },
    {
      "cell_type": "code",
      "execution_count": null,
      "metadata": {
        "id": "yxecfj3E0VgC"
      },
      "outputs": [],
      "source": [
        "model = keras.Sequential([\n",
        "    layers.Dense(4, activation=\"relu\"),\n",
        "    layers.Dense(4, activation=\"relu\"),\n",
        "    layers.Dense(1, activation=\"sigmoid\")\n",
        "])\n",
        "model.compile(optimizer=\"rmsprop\",\n",
        "              loss=\"binary_crossentropy\",\n",
        "              metrics=[\"accuracy\"])\n",
        "history_smaller_model = model.fit(\n",
        "    train_data, train_labels,\n",
        "    epochs=20, batch_size=512, validation_split=0.4)"
      ]
    },
    {
      "cell_type": "markdown",
      "metadata": {
        "id": "c9iEHE_h0VgC"
      },
      "source": [
        "**Version of the model with higher capacity**"
      ]
    },
    {
      "cell_type": "code",
      "execution_count": null,
      "metadata": {
        "id": "OKuL9nGT0VgD"
      },
      "outputs": [],
      "source": [
        "model = keras.Sequential([\n",
        "    layers.Dense(512, activation=\"relu\"),\n",
        "    layers.Dense(512, activation=\"relu\"),\n",
        "    layers.Dense(1, activation=\"sigmoid\")\n",
        "])\n",
        "model.compile(optimizer=\"rmsprop\",\n",
        "              loss=\"binary_crossentropy\",\n",
        "              metrics=[\"accuracy\"])\n",
        "history_larger_model = model.fit(\n",
        "    train_data, train_labels,\n",
        "    epochs=20, batch_size=512, validation_split=0.4)"
      ]
    },
    {
      "cell_type": "markdown",
      "metadata": {
        "id": "FZeMnE6X0VgE"
      },
      "source": [
        "#### Adding weight regularization"
      ]
    },
    {
      "cell_type": "markdown",
      "metadata": {
        "id": "3VdrXnay0VgE"
      },
      "source": [
        "**Adding L2 weight regularization to the model**"
      ]
    },
    {
      "cell_type": "code",
      "execution_count": null,
      "metadata": {
        "id": "JAzoBXMc0VgF"
      },
      "outputs": [],
      "source": [
        "from tensorflow.keras import regularizers\n",
        "model = keras.Sequential([\n",
        "    layers.Dense(16,\n",
        "                 kernel_regularizer=regularizers.l2(0.002),\n",
        "                 activation=\"relu\"),\n",
        "    layers.Dense(16,\n",
        "                 kernel_regularizer=regularizers.l2(0.002),\n",
        "                 activation=\"relu\"),\n",
        "    layers.Dense(1, activation=\"sigmoid\")\n",
        "])\n",
        "model.compile(optimizer=\"rmsprop\",\n",
        "              loss=\"binary_crossentropy\",\n",
        "              metrics=[\"accuracy\"])\n",
        "history_l2_reg = model.fit(\n",
        "    train_data, train_labels,\n",
        "    epochs=20, batch_size=512, validation_split=0.4)"
      ]
    },
    {
      "cell_type": "markdown",
      "metadata": {
        "id": "etNZbx-X0VgH"
      },
      "source": [
        "**Different weight regularizers available in Keras**"
      ]
    },
    {
      "cell_type": "code",
      "execution_count": null,
      "metadata": {
        "id": "GMHi90G40VgJ"
      },
      "outputs": [],
      "source": [
        "from tensorflow.keras import regularizers\n",
        "regularizers.l1(0.001)\n",
        "regularizers.l1_l2(l1=0.001, l2=0.001)"
      ]
    },
    {
      "cell_type": "markdown",
      "metadata": {
        "id": "WKLM17pv0VgK"
      },
      "source": [
        "#### Adding dropout"
      ]
    },
    {
      "cell_type": "markdown",
      "metadata": {
        "id": "4ca45rjg0VgK"
      },
      "source": [
        "**Adding dropout to the IMDB model**"
      ]
    },
    {
      "cell_type": "code",
      "execution_count": null,
      "metadata": {
        "id": "qgTTHdS40VgL"
      },
      "outputs": [],
      "source": [
        "model = keras.Sequential([\n",
        "    layers.Dense(16, activation=\"relu\"),\n",
        "    layers.Dropout(0.5),\n",
        "    layers.Dense(16, activation=\"relu\"),\n",
        "    layers.Dropout(0.5),\n",
        "    layers.Dense(1, activation=\"sigmoid\")\n",
        "])\n",
        "model.compile(optimizer=\"rmsprop\",\n",
        "              loss=\"binary_crossentropy\",\n",
        "              metrics=[\"accuracy\"])\n",
        "history_dropout = model.fit(\n",
        "    train_data, train_labels,\n",
        "    epochs=20, batch_size=512, validation_split=0.4)"
      ]
    },
    {
      "cell_type": "markdown",
      "metadata": {
        "id": "52vhS8Rz0VgM"
      },
      "source": [
        "## Summary"
      ]
    }
  ],
  "metadata": {
    "colab": {
      "name": "chapter05_fundamentals-of-ml.i",
      "provenance": []
    },
    "kernelspec": {
      "display_name": "Python 3",
      "language": "python",
      "name": "python3"
    },
    "language_info": {
      "codemirror_mode": {
        "name": "ipython",
        "version": 3
      },
      "file_extension": ".py",
      "mimetype": "text/x-python",
      "name": "python",
      "nbconvert_exporter": "python",
      "pygments_lexer": "ipython3",
      "version": "3.7.0"
    },
    "accelerator": "GPU",
    "gpuClass": "standard"
  },
  "nbformat": 4,
  "nbformat_minor": 0
}