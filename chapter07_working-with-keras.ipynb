{
  "cells": [
    {
      "cell_type": "markdown",
      "metadata": {
        "id": "Ffrm6R0Iy3N6"
      },
      "source": [
        "This is a companion notebook for the book [Deep Learning with Python, Second Edition](https://www.manning.com/books/deep-learning-with-python-second-edition?a_aid=keras&a_bid=76564dff). For readability, it only contains runnable code blocks and section titles, and omits everything else in the book: text paragraphs, figures, and pseudocode.\n",
        "\n",
        "**If you want to be able to follow what's going on, I recommend reading the notebook side by side with your copy of the book.**\n",
        "\n",
        "This notebook was generated for TensorFlow 2.6."
      ]
    },
    {
      "cell_type": "markdown",
      "metadata": {
        "id": "SmcviZyZy3N8"
      },
      "source": [
        "# Working with Keras: A deep dive"
      ]
    },
    {
      "cell_type": "markdown",
      "metadata": {
        "id": "Tnw9FySgy3N9"
      },
      "source": [
        "## A spectrum of workflows"
      ]
    },
    {
      "cell_type": "markdown",
      "metadata": {
        "id": "WlWcig4Jy3N9"
      },
      "source": [
        "## Different ways to build Keras models"
      ]
    },
    {
      "cell_type": "markdown",
      "source": [
        "Sequential, Functional API, Subclassing이라는 3개의 녀석은 모델을 구현한다는 공통적인 역할을 함."
      ],
      "metadata": {
        "id": "H2RZmOXoCQHR"
      }
    },
    {
      "cell_type": "markdown",
      "metadata": {
        "id": "cbxnhwzWy3N-"
      },
      "source": [
        "### The Sequential model"
      ]
    },
    {
      "cell_type": "markdown",
      "metadata": {
        "id": "6psTUdCPy3N-"
      },
      "source": [
        "**The `Sequential` class**"
      ]
    },
    {
      "cell_type": "code",
      "execution_count": 10,
      "metadata": {
        "id": "150hwqp_y3N_"
      },
      "outputs": [],
      "source": [
        "from tensorflow import keras\n",
        "from tensorflow.keras import layers\n",
        "\n",
        "model = keras.Sequential([\n",
        "    layers.Dense(64, activation=\"relu\"),\n",
        "    layers.Dense(10, activation=\"softmax\")\n",
        "])\n",
        "#그냥 그거"
      ]
    },
    {
      "cell_type": "markdown",
      "metadata": {
        "id": "r9wRbWx6y3OA"
      },
      "source": [
        "**Incrementally building a Sequential model**"
      ]
    },
    {
      "cell_type": "code",
      "execution_count": 11,
      "metadata": {
        "id": "5733yExUy3OB"
      },
      "outputs": [],
      "source": [
        "model = keras.Sequential()\n",
        "model.add(layers.Dense(64, activation=\"relu\"))\n",
        "model.add(layers.Dense(10, activation=\"softmax\"))\n",
        "# model을 정의하는 새로운 방법.\n",
        "# 근데 데이터 input 값이 없어서 에러가 뜸."
      ]
    },
    {
      "cell_type": "code",
      "source": [
        "model.summary()\n",
        "# input 데이터가 없으니까 오류\n",
        "# build를 안해서 오류\n",
        "# build를 해주면 오류 해결"
      ],
      "metadata": {
        "id": "VKpvYkml2pKj",
        "outputId": "bf75fdad-5785-4e45-dff0-6a7264620ac8",
        "colab": {
          "base_uri": "https://localhost:8080/",
          "height": 340
        }
      },
      "execution_count": 12,
      "outputs": [
        {
          "output_type": "error",
          "ename": "ValueError",
          "evalue": "ignored",
          "traceback": [
            "\u001b[0;31m---------------------------------------------------------------------------\u001b[0m",
            "\u001b[0;31mValueError\u001b[0m                                Traceback (most recent call last)",
            "\u001b[0;32m<ipython-input-12-5f15418b3570>\u001b[0m in \u001b[0;36m<cell line: 1>\u001b[0;34m()\u001b[0m\n\u001b[0;32m----> 1\u001b[0;31m \u001b[0mmodel\u001b[0m\u001b[0;34m.\u001b[0m\u001b[0msummary\u001b[0m\u001b[0;34m(\u001b[0m\u001b[0;34m)\u001b[0m\u001b[0;34m\u001b[0m\u001b[0;34m\u001b[0m\u001b[0m\n\u001b[0m",
            "\u001b[0;32m/usr/local/lib/python3.9/dist-packages/keras/engine/training.py\u001b[0m in \u001b[0;36msummary\u001b[0;34m(self, line_length, positions, print_fn, expand_nested, show_trainable, layer_range)\u001b[0m\n\u001b[1;32m   3227\u001b[0m         \"\"\"\n\u001b[1;32m   3228\u001b[0m         \u001b[0;32mif\u001b[0m \u001b[0;32mnot\u001b[0m \u001b[0mself\u001b[0m\u001b[0;34m.\u001b[0m\u001b[0mbuilt\u001b[0m\u001b[0;34m:\u001b[0m\u001b[0;34m\u001b[0m\u001b[0;34m\u001b[0m\u001b[0m\n\u001b[0;32m-> 3229\u001b[0;31m             raise ValueError(\n\u001b[0m\u001b[1;32m   3230\u001b[0m                 \u001b[0;34m\"This model has not yet been built. \"\u001b[0m\u001b[0;34m\u001b[0m\u001b[0;34m\u001b[0m\u001b[0m\n\u001b[1;32m   3231\u001b[0m                 \u001b[0;34m\"Build the model first by calling `build()` or by calling \"\u001b[0m\u001b[0;34m\u001b[0m\u001b[0;34m\u001b[0m\u001b[0m\n",
            "\u001b[0;31mValueError\u001b[0m: This model has not yet been built. Build the model first by calling `build()` or by calling the model on a batch of data."
          ]
        }
      ]
    },
    {
      "cell_type": "markdown",
      "metadata": {
        "id": "IeiV_okBy3OB"
      },
      "source": [
        "**Calling a model for the first time to build it**"
      ]
    },
    {
      "cell_type": "code",
      "execution_count": 13,
      "metadata": {
        "id": "aiCpCLlay3OC",
        "outputId": "e0e5b799-5e15-4b4d-e9ae-3d535ef9185f",
        "colab": {
          "base_uri": "https://localhost:8080/"
        }
      },
      "outputs": [
        {
          "output_type": "execute_result",
          "data": {
            "text/plain": [
              "[<tf.Variable 'dense_8/kernel:0' shape=(3, 64) dtype=float32, numpy=\n",
              " array([[-0.24337065,  0.06524837, -0.03735018,  0.08589852, -0.02079278,\n",
              "          0.01937133,  0.2169978 , -0.23471314, -0.11542538,  0.22485179,\n",
              "          0.11833271, -0.02572232, -0.20046538,  0.09810629,  0.17488804,\n",
              "         -0.14485162,  0.1987105 , -0.00246236,  0.16482025, -0.15603547,\n",
              "         -0.12678587,  0.21532834, -0.21831214, -0.11905916,  0.25107175,\n",
              "          0.06630537,  0.1928344 ,  0.2748196 ,  0.08488426, -0.21482712,\n",
              "         -0.14875981, -0.14202882,  0.2815615 , -0.00675574, -0.07196587,\n",
              "         -0.25178942, -0.27961287, -0.1980355 , -0.23630768,  0.07927626,\n",
              "          0.2857067 ,  0.0684742 ,  0.13811606, -0.15780567,  0.24155635,\n",
              "         -0.02165717,  0.03501788, -0.04605818, -0.01844782, -0.26587048,\n",
              "          0.18172604, -0.13371664, -0.04122591, -0.06312792, -0.00814781,\n",
              "          0.01018134,  0.24332118, -0.09779963, -0.093018  , -0.00245363,\n",
              "         -0.25720733, -0.09933211,  0.19452578, -0.25633332],\n",
              "        [ 0.19565693, -0.19500336, -0.05276164, -0.0235219 , -0.21955088,\n",
              "         -0.12844706,  0.0727146 ,  0.21490759, -0.12764661, -0.18284947,\n",
              "          0.08507803, -0.20772883,  0.20867425, -0.24111478, -0.15396433,\n",
              "          0.19583398, -0.19831389,  0.03091633,  0.03333965,  0.0662379 ,\n",
              "         -0.25550735,  0.03303128, -0.24048029, -0.12977134, -0.01742876,\n",
              "          0.04494581, -0.08457789, -0.08543105, -0.120525  , -0.06028973,\n",
              "         -0.13630919,  0.2838326 , -0.19812411, -0.2456121 , -0.04747316,\n",
              "         -0.23285446, -0.24372096, -0.23034525, -0.19719845, -0.0847332 ,\n",
              "          0.26183945,  0.16899845,  0.24030805, -0.09769867, -0.07210621,\n",
              "         -0.06114845,  0.01920301,  0.00558072,  0.21924019,  0.28335094,\n",
              "         -0.2937759 , -0.2881727 , -0.01180258, -0.2374157 , -0.20567417,\n",
              "          0.2940901 ,  0.25179666,  0.23209202,  0.10768154, -0.07610081,\n",
              "         -0.082094  ,  0.04952011, -0.04602429,  0.20881128],\n",
              "        [-0.06476042, -0.2734207 ,  0.2950222 ,  0.23103338,  0.05403256,\n",
              "         -0.02761117, -0.02892581,  0.05439392,  0.09872186, -0.2482262 ,\n",
              "          0.13349953,  0.25960386, -0.14166917, -0.28095683,  0.03635529,\n",
              "         -0.11528952, -0.21997026, -0.24794096, -0.24353845,  0.07211235,\n",
              "         -0.14513302, -0.13757625, -0.1935429 ,  0.0020299 , -0.22174324,\n",
              "          0.2180695 ,  0.15155956,  0.05973741,  0.10790455, -0.18413858,\n",
              "          0.01300314, -0.16928883, -0.04086995,  0.28304923, -0.0143387 ,\n",
              "         -0.11322752, -0.15368079, -0.09732489, -0.03411013,  0.00709906,\n",
              "          0.05586496,  0.2534728 , -0.0348931 , -0.17055967, -0.12392171,\n",
              "         -0.18211567, -0.10609762, -0.02698439, -0.10971822, -0.19800666,\n",
              "         -0.05049072,  0.1441612 , -0.23392032,  0.03308901,  0.05994439,\n",
              "         -0.1026113 ,  0.16725364,  0.00708815,  0.26591545, -0.16804674,\n",
              "          0.05546099,  0.17694291, -0.14826053,  0.18498856]],\n",
              "       dtype=float32)>,\n",
              " <tf.Variable 'dense_8/bias:0' shape=(64,) dtype=float32, numpy=\n",
              " array([0., 0., 0., 0., 0., 0., 0., 0., 0., 0., 0., 0., 0., 0., 0., 0., 0.,\n",
              "        0., 0., 0., 0., 0., 0., 0., 0., 0., 0., 0., 0., 0., 0., 0., 0., 0.,\n",
              "        0., 0., 0., 0., 0., 0., 0., 0., 0., 0., 0., 0., 0., 0., 0., 0., 0.,\n",
              "        0., 0., 0., 0., 0., 0., 0., 0., 0., 0., 0., 0., 0.], dtype=float32)>,\n",
              " <tf.Variable 'dense_9/kernel:0' shape=(64, 10) dtype=float32, numpy=\n",
              " array([[ 0.09798571, -0.1753515 ,  0.16636956,  0.10889745,  0.12196422,\n",
              "         -0.10692644, -0.14458913, -0.03525336, -0.09291013, -0.03197947],\n",
              "        [ 0.19003177, -0.28200948,  0.16055569, -0.18761905, -0.03874816,\n",
              "          0.18318549, -0.01818559, -0.22148097,  0.03510475, -0.25537252],\n",
              "        [ 0.11685351, -0.23353772, -0.02021039, -0.2311453 ,  0.14403033,\n",
              "          0.10704762,  0.04850462,  0.1441777 , -0.26465407, -0.10482432],\n",
              "        [-0.17665829, -0.07213743, -0.12915237, -0.20623049, -0.09501225,\n",
              "          0.05949798,  0.17361692, -0.06696197,  0.02458283,  0.26404175],\n",
              "        [-0.13676423, -0.07928582,  0.10396504, -0.2619719 ,  0.21729878,\n",
              "          0.17226186,  0.04066479,  0.06999466,  0.00387129,  0.16572922],\n",
              "        [ 0.23014727, -0.24083002,  0.16272902, -0.09530003, -0.2843987 ,\n",
              "          0.07661545, -0.1327788 ,  0.10969001,  0.25409696,  0.0854595 ],\n",
              "        [ 0.02361548,  0.05366984,  0.14104396,  0.00893897, -0.13396482,\n",
              "          0.03628251,  0.22677252,  0.04220209, -0.07163465,  0.12638882],\n",
              "        [ 0.15234008, -0.09441414,  0.00165427,  0.05980361,  0.09831288,\n",
              "         -0.23438545, -0.20857748,  0.05721685, -0.07856761,  0.14103064],\n",
              "        [ 0.01368842,  0.08924922,  0.02127704, -0.03536478,  0.24812493,\n",
              "          0.20957065, -0.14628527, -0.05743626, -0.18434128, -0.02121675],\n",
              "        [-0.05367364, -0.21154457, -0.07553914, -0.25567397, -0.14480026,\n",
              "          0.25330612, -0.03273964,  0.22230855, -0.04660483,  0.23641017],\n",
              "        [-0.05045624, -0.18167964, -0.2677825 ,  0.20517468,  0.06346181,\n",
              "         -0.2671401 , -0.07832213,  0.149019  , -0.14099942, -0.06910673],\n",
              "        [ 0.18148208,  0.085776  , -0.16685131,  0.08320138,  0.09819433,\n",
              "          0.25905225, -0.10137956, -0.27359396, -0.27374154,  0.20697755],\n",
              "        [-0.04031152,  0.27573112,  0.14628077,  0.0051764 ,  0.16335285,\n",
              "          0.00571224, -0.08522061,  0.16376746,  0.25082752,  0.2734458 ],\n",
              "        [ 0.17352107,  0.06463936, -0.11134201,  0.14901325, -0.12844686,\n",
              "         -0.08239004,  0.22927853,  0.03619629, -0.22565953,  0.22238675],\n",
              "        [-0.21186216, -0.05627915, -0.01215574,  0.09663221,  0.10804451,\n",
              "         -0.20324874,  0.09910133, -0.24888486,  0.10870248,  0.06197119],\n",
              "        [ 0.15429786,  0.11908993,  0.27017733,  0.26179072,  0.25425807,\n",
              "          0.25936118,  0.20924905, -0.20915794, -0.07171951,  0.24390993],\n",
              "        [ 0.17810187,  0.13479415,  0.26529512,  0.16523603,  0.22686294,\n",
              "          0.18225154, -0.0167172 ,  0.26288632, -0.1770297 ,  0.2667282 ],\n",
              "        [ 0.16922757,  0.0271557 ,  0.23995885,  0.269528  ,  0.08392692,\n",
              "         -0.21716864, -0.14369692, -0.02656418, -0.12120405, -0.07010192],\n",
              "        [-0.13959588, -0.07489915,  0.253884  ,  0.23051003,  0.15696782,\n",
              "          0.08993891, -0.17605984,  0.19921532, -0.18936963, -0.1660963 ],\n",
              "        [ 0.18528706,  0.0746215 , -0.17449188, -0.15659212,  0.26722792,\n",
              "          0.15433359,  0.0277811 ,  0.20027941,  0.19690377,  0.10937446],\n",
              "        [ 0.17829835, -0.24280587,  0.2437627 , -0.24458387,  0.04344609,\n",
              "         -0.2297231 ,  0.18320054, -0.02498868, -0.11359546, -0.02420783],\n",
              "        [-0.17741308, -0.07947814,  0.08521953,  0.20527712, -0.1723178 ,\n",
              "          0.02630892, -0.07800522,  0.2618651 ,  0.01988173,  0.2147879 ],\n",
              "        [ 0.12267324, -0.28334343,  0.13805568,  0.254887  ,  0.03484136,\n",
              "          0.14157566, -0.06059283, -0.1724267 ,  0.0636695 ,  0.15923741],\n",
              "        [ 0.26430425,  0.12056732,  0.05315551,  0.24802199, -0.1548917 ,\n",
              "          0.25300488,  0.24159762,  0.00937989, -0.05762343,  0.24115822],\n",
              "        [ 0.2789304 , -0.26454937,  0.11220473,  0.22638628,  0.12263155,\n",
              "          0.10566676,  0.19200367,  0.21865115, -0.17470613,  0.01445806],\n",
              "        [ 0.26074752, -0.23322196,  0.27892748,  0.18527728,  0.09970045,\n",
              "         -0.25679618,  0.2726591 , -0.13612166, -0.078071  , -0.02683681],\n",
              "        [-0.18809882, -0.19592534, -0.11758624, -0.09921873,  0.2440848 ,\n",
              "         -0.20761773, -0.23143275,  0.01125643,  0.08166504,  0.01017264],\n",
              "        [ 0.00979021,  0.18347421,  0.19456932, -0.0937345 ,  0.09095228,\n",
              "         -0.04801264, -0.03591643, -0.2200561 ,  0.25573185,  0.2798536 ],\n",
              "        [-0.10043882, -0.02209619, -0.25901988, -0.02778462,  0.27748838,\n",
              "         -0.13285396,  0.25909355,  0.27131644, -0.00434539, -0.12041864],\n",
              "        [ 0.01538053,  0.22181877, -0.24880326, -0.23275557, -0.2638097 ,\n",
              "         -0.18140686,  0.14115265,  0.01588455,  0.03793776,  0.1794537 ],\n",
              "        [ 0.0043861 ,  0.01206654, -0.15268469, -0.12657101,  0.03108999,\n",
              "         -0.1764253 , -0.0977716 ,  0.12439382, -0.11380136,  0.2169095 ],\n",
              "        [-0.06552584, -0.04312694, -0.15126473,  0.06176528,  0.24943647,\n",
              "          0.08670473, -0.02856249,  0.04138476,  0.10237312, -0.08736759],\n",
              "        [-0.09935252, -0.02650884, -0.2597175 ,  0.167819  , -0.06166582,\n",
              "          0.22789577,  0.05527547, -0.19507891,  0.17247924, -0.2509913 ],\n",
              "        [-0.04939398, -0.07327159, -0.0643606 ,  0.07031021, -0.08169751,\n",
              "         -0.0751701 ,  0.11577436, -0.08848348, -0.00087562,  0.25119868],\n",
              "        [-0.0511703 ,  0.28091487,  0.03955394, -0.28355315, -0.21107893,\n",
              "         -0.2591338 ,  0.08041188,  0.28028396,  0.09978023,  0.22423938],\n",
              "        [-0.0802922 , -0.14279841, -0.11554991, -0.26509058,  0.22606191,\n",
              "         -0.06364308, -0.03035197, -0.09910473,  0.17299187,  0.24216804],\n",
              "        [ 0.16338393,  0.09367457,  0.11230278, -0.08369847,  0.22070286,\n",
              "          0.10653457,  0.06765029,  0.21357852, -0.0872272 ,  0.06161672],\n",
              "        [ 0.20992535, -0.24192575,  0.0665175 , -0.17614436, -0.04172768,\n",
              "         -0.01868328,  0.06247437, -0.24129784,  0.04341507, -0.20248763],\n",
              "        [-0.14876355, -0.22561167, -0.0333643 ,  0.1141319 , -0.12557937,\n",
              "          0.00897214,  0.06497771, -0.11666274, -0.18211576,  0.16421789],\n",
              "        [ 0.12755024,  0.03931463, -0.19701096,  0.19382927, -0.03827056,\n",
              "          0.26595047,  0.17319968,  0.26730075,  0.01471156, -0.26727974],\n",
              "        [ 0.01892483, -0.25631633,  0.00674593,  0.00905377,  0.2739475 ,\n",
              "          0.11068809, -0.21072143, -0.03482145, -0.1767756 , -0.09104012],\n",
              "        [ 0.05660257, -0.20058578, -0.04206359, -0.16323459,  0.14537099,\n",
              "         -0.2020452 , -0.07155935, -0.04340923,  0.15349936,  0.0236541 ],\n",
              "        [ 0.00603616, -0.09989007,  0.23467651,  0.07130858,  0.25941148,\n",
              "         -0.22857489,  0.20353767, -0.21006928, -0.00033069,  0.06440929],\n",
              "        [ 0.05410969, -0.05458397, -0.09037304,  0.07060993, -0.15340805,\n",
              "          0.250712  , -0.04774278, -0.0530162 ,  0.03830615, -0.04564732],\n",
              "        [-0.00667912, -0.07820603,  0.19947654, -0.21529558, -0.21303582,\n",
              "          0.18061432,  0.18111426, -0.14531906,  0.05757299,  0.14802173],\n",
              "        [-0.22036073,  0.12642893,  0.08587328,  0.00252399, -0.04038605,\n",
              "          0.26547834,  0.14552951, -0.15427995, -0.20628956, -0.22612314],\n",
              "        [ 0.25635108,  0.18953764, -0.01731136,  0.08723724,  0.16859761,\n",
              "         -0.05197248,  0.0758532 ,  0.06976214, -0.22212034,  0.23977962],\n",
              "        [ 0.01828775,  0.03370991,  0.22030315, -0.04405472, -0.19739786,\n",
              "          0.26278105, -0.08128908,  0.16442487, -0.27408773, -0.20371914],\n",
              "        [-0.10753588,  0.16438803, -0.01024893, -0.05602518, -0.1477427 ,\n",
              "          0.03933343,  0.24236599,  0.12935942,  0.10741469, -0.16622475],\n",
              "        [ 0.02577129,  0.12167811, -0.11188424, -0.25581768,  0.1772426 ,\n",
              "          0.01957059, -0.19480605, -0.23319054,  0.20975387,  0.1978189 ],\n",
              "        [ 0.14888549,  0.03046107,  0.02686608, -0.07410458, -0.17438915,\n",
              "          0.141972  , -0.02404422, -0.22415179, -0.02425358, -0.09352148],\n",
              "        [ 0.02217561,  0.25655386,  0.24769822,  0.04255679, -0.00133395,\n",
              "          0.27001694,  0.19327557,  0.15144265, -0.16220918,  0.14210534],\n",
              "        [-0.1551295 , -0.04287833,  0.27879927,  0.01689774,  0.0221687 ,\n",
              "          0.26655957,  0.19619995, -0.0012131 ,  0.26373443, -0.08071454],\n",
              "        [ 0.00928077, -0.21680531, -0.02158701,  0.22679421,  0.19872177,\n",
              "         -0.05122712, -0.0078105 ,  0.09645632,  0.23295054, -0.18601938],\n",
              "        [ 0.07078469, -0.07165501,  0.21371636, -0.09853914,  0.177324  ,\n",
              "          0.22285858,  0.03364548, -0.11636201,  0.2777728 , -0.01819041],\n",
              "        [-0.22562721,  0.15173376,  0.04500577, -0.03430244,  0.034107  ,\n",
              "         -0.0285764 , -0.11346844,  0.19347665, -0.197213  , -0.27031702],\n",
              "        [ 0.05049127, -0.23649687,  0.04839003,  0.26682088,  0.2370666 ,\n",
              "         -0.06782342,  0.11231595, -0.14471206, -0.13316698, -0.15744425],\n",
              "        [-0.07191591, -0.05980307, -0.11312844, -0.08709013,  0.21149495,\n",
              "          0.20422953,  0.23568615,  0.1170398 ,  0.00208038, -0.03007215],\n",
              "        [-0.24281666,  0.22904763,  0.1645695 ,  0.0604212 ,  0.083992  ,\n",
              "          0.02534196, -0.06810129, -0.10635054, -0.2507429 ,  0.24004129],\n",
              "        [-0.24184136, -0.25495434,  0.011244  ,  0.24412099, -0.11874226,\n",
              "         -0.26621145,  0.27965865,  0.00313735,  0.11329341, -0.1618523 ],\n",
              "        [-0.26869902,  0.11990643,  0.02241799, -0.10539201, -0.10523471,\n",
              "          0.2186676 , -0.23009004, -0.13933837,  0.11615536,  0.09034732],\n",
              "        [-0.2651548 ,  0.00296634,  0.17675334, -0.17970549, -0.20494631,\n",
              "         -0.02157637,  0.09134656,  0.01452005,  0.14220533, -0.07040761],\n",
              "        [-0.02407694, -0.26123375,  0.10147563, -0.16711485,  0.16783318,\n",
              "          0.02120107,  0.21616504, -0.14428206, -0.10212465, -0.19791618],\n",
              "        [ 0.14959654,  0.18344182,  0.11067051, -0.03407142,  0.15609178,\n",
              "         -0.02568826, -0.08281869, -0.06431878,  0.2128928 ,  0.20536694]],\n",
              "       dtype=float32)>,\n",
              " <tf.Variable 'dense_9/bias:0' shape=(10,) dtype=float32, numpy=array([0., 0., 0., 0., 0., 0., 0., 0., 0., 0.], dtype=float32)>]"
            ]
          },
          "metadata": {},
          "execution_count": 13
        }
      ],
      "source": [
        "model.build(input_shape=(None, 3))\n",
        "model.weights"
      ]
    },
    {
      "cell_type": "markdown",
      "metadata": {
        "id": "1BOfqhR2y3OC"
      },
      "source": [
        "**The summary method**"
      ]
    },
    {
      "cell_type": "code",
      "execution_count": 5,
      "metadata": {
        "id": "L0G99eSBy3OC",
        "outputId": "4aa7e36e-f917-444d-b058-d136d6c4f5c1",
        "colab": {
          "base_uri": "https://localhost:8080/"
        }
      },
      "outputs": [
        {
          "output_type": "stream",
          "name": "stdout",
          "text": [
            "Model: \"sequential_1\"\n",
            "_________________________________________________________________\n",
            " Layer (type)                Output Shape              Param #   \n",
            "=================================================================\n",
            " dense_2 (Dense)             (None, 64)                256       \n",
            "                                                                 \n",
            " dense_3 (Dense)             (None, 10)                650       \n",
            "                                                                 \n",
            "=================================================================\n",
            "Total params: 906\n",
            "Trainable params: 906\n",
            "Non-trainable params: 0\n",
            "_________________________________________________________________\n"
          ]
        }
      ],
      "source": [
        "model.summary()"
      ]
    },
    {
      "cell_type": "markdown",
      "metadata": {
        "id": "079Ad8FBy3OD"
      },
      "source": [
        "**Naming models and layers with the `name` argument**"
      ]
    },
    {
      "cell_type": "code",
      "execution_count": 6,
      "metadata": {
        "id": "3HPCv7Cny3OD",
        "outputId": "1294a36a-c14e-4f4b-cbc0-9b4add8bb7de",
        "colab": {
          "base_uri": "https://localhost:8080/"
        }
      },
      "outputs": [
        {
          "output_type": "stream",
          "name": "stdout",
          "text": [
            "Model: \"my_example_model\"\n",
            "_________________________________________________________________\n",
            " Layer (type)                Output Shape              Param #   \n",
            "=================================================================\n",
            " my_first_layer (Dense)      (None, 64)                256       \n",
            "                                                                 \n",
            " my_last_layer (Dense)       (None, 10)                650       \n",
            "                                                                 \n",
            "=================================================================\n",
            "Total params: 906\n",
            "Trainable params: 906\n",
            "Non-trainable params: 0\n",
            "_________________________________________________________________\n"
          ]
        }
      ],
      "source": [
        "model = keras.Sequential(name=\"my_example_model\")\n",
        "model.add(layers.Dense(64, activation=\"relu\", name=\"my_first_layer\"))\n",
        "model.add(layers.Dense(10, activation=\"softmax\", name=\"my_last_layer\"))\n",
        "model.build((None, 3))\n",
        "model.summary()\n",
        "# model의 이름을 정의 해줌."
      ]
    },
    {
      "cell_type": "markdown",
      "metadata": {
        "id": "kKrkAr3Ay3OD"
      },
      "source": [
        "**Specifying the input shape of your model in advance**"
      ]
    },
    {
      "cell_type": "code",
      "execution_count": 7,
      "metadata": {
        "id": "sJg3AaJ7y3OE"
      },
      "outputs": [],
      "source": [
        "model = keras.Sequential() # Sequential() <- 이 녀석 model을 비워주는 역할\n",
        "model.add(keras.Input(shape=(3,)))\n",
        "model.add(layers.Dense(64, activation=\"relu\")) # 그 후 add를 통해 relu에 해당하는 친구만 넣어준 것."
      ]
    },
    {
      "cell_type": "code",
      "execution_count": 8,
      "metadata": {
        "id": "iRpdocXGy3OE",
        "outputId": "c9bafa20-e4fc-4efd-fdaf-cb93f39d5d8d",
        "colab": {
          "base_uri": "https://localhost:8080/"
        }
      },
      "outputs": [
        {
          "output_type": "stream",
          "name": "stdout",
          "text": [
            "Model: \"sequential_2\"\n",
            "_________________________________________________________________\n",
            " Layer (type)                Output Shape              Param #   \n",
            "=================================================================\n",
            " dense_4 (Dense)             (None, 64)                256       \n",
            "                                                                 \n",
            "=================================================================\n",
            "Total params: 256\n",
            "Trainable params: 256\n",
            "Non-trainable params: 0\n",
            "_________________________________________________________________\n"
          ]
        }
      ],
      "source": [
        "model.summary()"
      ]
    },
    {
      "cell_type": "code",
      "execution_count": 9,
      "metadata": {
        "id": "H_Lx8WxQy3OE",
        "outputId": "2c8bc8b9-f740-48cf-d38b-d9a840773f36",
        "colab": {
          "base_uri": "https://localhost:8080/"
        }
      },
      "outputs": [
        {
          "output_type": "stream",
          "name": "stdout",
          "text": [
            "Model: \"sequential_2\"\n",
            "_________________________________________________________________\n",
            " Layer (type)                Output Shape              Param #   \n",
            "=================================================================\n",
            " dense_4 (Dense)             (None, 64)                256       \n",
            "                                                                 \n",
            " dense_5 (Dense)             (None, 10)                650       \n",
            "                                                                 \n",
            "=================================================================\n",
            "Total params: 906\n",
            "Trainable params: 906\n",
            "Non-trainable params: 0\n",
            "_________________________________________________________________\n"
          ]
        }
      ],
      "source": [
        "model.add(layers.Dense(10, activation=\"softmax\"))\n",
        "model.summary()"
      ]
    },
    {
      "cell_type": "markdown",
      "metadata": {
        "id": "89wOdWMKy3OF"
      },
      "source": [
        "### The Functional API"
      ]
    },
    {
      "cell_type": "markdown",
      "metadata": {
        "id": "FREx8Af5y3OF"
      },
      "source": [
        "#### A simple example"
      ]
    },
    {
      "cell_type": "markdown",
      "metadata": {
        "id": "dRaM9mKXy3OF"
      },
      "source": [
        "**A simple Functional model with two `Dense` layers**"
      ]
    },
    {
      "cell_type": "code",
      "execution_count": 14,
      "metadata": {
        "id": "K260fSM_y3OF"
      },
      "outputs": [],
      "source": [
        "inputs = keras.Input(shape=(3,), name=\"my_input\")\n",
        "features = layers.Dense(64, activation=\"relu\")(inputs) #dense layer\n",
        "outputs = layers.Dense(10, activation=\"softmax\")(features) #dense layer\n",
        "model = keras.Model(inputs=inputs, outputs=outputs)"
      ]
    },
    {
      "cell_type": "code",
      "execution_count": 15,
      "metadata": {
        "id": "DsayZIX6y3OG"
      },
      "outputs": [],
      "source": [
        "inputs = keras.Input(shape=(3,), name=\"my_input\")"
      ]
    },
    {
      "cell_type": "code",
      "execution_count": 16,
      "metadata": {
        "id": "zHPJXzg2y3OG",
        "outputId": "7a65c416-ce3c-4fdf-90bd-036f51421a83",
        "colab": {
          "base_uri": "https://localhost:8080/"
        }
      },
      "outputs": [
        {
          "output_type": "execute_result",
          "data": {
            "text/plain": [
              "TensorShape([None, 3])"
            ]
          },
          "metadata": {},
          "execution_count": 16
        }
      ],
      "source": [
        "inputs.shape"
      ]
    },
    {
      "cell_type": "code",
      "execution_count": 17,
      "metadata": {
        "id": "caeQ8KU2y3OG",
        "outputId": "24a3c1ef-2ee0-4270-b35c-c6fb0493b677",
        "colab": {
          "base_uri": "https://localhost:8080/"
        }
      },
      "outputs": [
        {
          "output_type": "execute_result",
          "data": {
            "text/plain": [
              "tf.float32"
            ]
          },
          "metadata": {},
          "execution_count": 17
        }
      ],
      "source": [
        "inputs.dtype"
      ]
    },
    {
      "cell_type": "code",
      "execution_count": 18,
      "metadata": {
        "id": "77FNZmcUy3OH"
      },
      "outputs": [],
      "source": [
        "features = layers.Dense(64, activation=\"relu\")(inputs)"
      ]
    },
    {
      "cell_type": "code",
      "execution_count": 19,
      "metadata": {
        "id": "pSROH7eYy3OH",
        "outputId": "73586b9d-9c90-42a3-8f16-57efe96840c5",
        "colab": {
          "base_uri": "https://localhost:8080/"
        }
      },
      "outputs": [
        {
          "output_type": "execute_result",
          "data": {
            "text/plain": [
              "TensorShape([None, 64])"
            ]
          },
          "metadata": {},
          "execution_count": 19
        }
      ],
      "source": [
        "features.shape"
      ]
    },
    {
      "cell_type": "code",
      "execution_count": 20,
      "metadata": {
        "id": "I3qeUrSMy3OH"
      },
      "outputs": [],
      "source": [
        "outputs = layers.Dense(10, activation=\"softmax\")(features)\n",
        "model = keras.Model(inputs=inputs, outputs=outputs)"
      ]
    },
    {
      "cell_type": "code",
      "source": [
        "outputs.shape"
      ],
      "metadata": {
        "id": "Vy6qBcQi4_ch",
        "outputId": "2bbe9044-c8de-4ce6-f5a0-593607ed3598",
        "colab": {
          "base_uri": "https://localhost:8080/"
        }
      },
      "execution_count": 22,
      "outputs": [
        {
          "output_type": "execute_result",
          "data": {
            "text/plain": [
              "TensorShape([None, 10])"
            ]
          },
          "metadata": {},
          "execution_count": 22
        }
      ]
    },
    {
      "cell_type": "code",
      "execution_count": 21,
      "metadata": {
        "id": "DubrlC0Ly3OH",
        "outputId": "311c6f86-21a8-4e95-bbe7-0c7d7fa1166f",
        "colab": {
          "base_uri": "https://localhost:8080/"
        }
      },
      "outputs": [
        {
          "output_type": "stream",
          "name": "stdout",
          "text": [
            "Model: \"model_1\"\n",
            "_________________________________________________________________\n",
            " Layer (type)                Output Shape              Param #   \n",
            "=================================================================\n",
            " my_input (InputLayer)       [(None, 3)]               0         \n",
            "                                                                 \n",
            " dense_12 (Dense)            (None, 64)                256       \n",
            "                                                                 \n",
            " dense_13 (Dense)            (None, 10)                650       \n",
            "                                                                 \n",
            "=================================================================\n",
            "Total params: 906\n",
            "Trainable params: 906\n",
            "Non-trainable params: 0\n",
            "_________________________________________________________________\n"
          ]
        }
      ],
      "source": [
        "model.summary()"
      ]
    },
    {
      "cell_type": "markdown",
      "metadata": {
        "id": "69mGKQj2y3OI"
      },
      "source": [
        "#### Multi-input, multi-output models"
      ]
    },
    {
      "cell_type": "markdown",
      "metadata": {
        "id": "mbrrdwG5y3OI"
      },
      "source": [
        "**A multi-input, multi-output Functional model**"
      ]
    },
    {
      "cell_type": "code",
      "execution_count": 35,
      "metadata": {
        "id": "QcL5jPAWy3OI"
      },
      "outputs": [],
      "source": [
        "vocabulary_size = 10000\n",
        "num_tags = 100\n",
        "num_departments = 4 # department가 4개로 정의\n",
        "\n",
        "title = keras.Input(shape=(vocabulary_size,), name=\"title\")\n",
        "text_body = keras.Input(shape=(vocabulary_size,), name=\"text_body\")\n",
        "tags = keras.Input(shape=(num_tags,), name=\"tags\")\n",
        "\n",
        "features = layers.Concatenate()([title, text_body, tags]) # concatenate는 여러 개의 input 값을 dense에 넣기 전에 하나로 합쳐주는 역할\n",
        "features = layers.Dense(64, activation=\"relu\")(features) # 합친 것을 dense layer에 넣어줌.\n",
        "features = layers.Dense(36, activation=\"relu\")(features) # 합친 것을 dense layer에 넣어줌. # 내가 추가한거임.\n",
        "\n",
        "priority = layers.Dense(1, activation=\"sigmoid\", name=\"priority\")(features) # actvation 활성화 함수. \n",
        "department = layers.Dense(\n",
        "    num_departments, activation=\"softmax\", name=\"department\")(features) # 4개가 넘어서 복수이므로 activation을 softmax로 지정.\n",
        "\n",
        "model = keras.Model(inputs=[title, text_body, tags], outputs=[priority, department])\n",
        "# input값이 여러 개 이거나, output이 여러 개인 경우."
      ]
    },
    {
      "cell_type": "markdown",
      "metadata": {
        "id": "_hF09yE3y3OJ"
      },
      "source": [
        "#### Training a multi-input, multi-output model"
      ]
    },
    {
      "cell_type": "markdown",
      "metadata": {
        "id": "JF-YgiJyy3OJ"
      },
      "source": [
        "**Training a model by providing lists of input & target arrays**"
      ]
    },
    {
      "cell_type": "code",
      "execution_count": 36,
      "metadata": {
        "id": "fwWSLjlMy3OJ",
        "outputId": "ce2e1efb-bd40-4f6e-9e24-b504c2897c9a",
        "colab": {
          "base_uri": "https://localhost:8080/"
        }
      },
      "outputs": [
        {
          "output_type": "stream",
          "name": "stdout",
          "text": [
            "40/40 [==============================] - 2s 10ms/step - loss: 12.9391 - priority_loss: 0.3387 - department_loss: 12.6004 - priority_mean_absolute_error: 0.5039 - department_accuracy: 0.2883\n",
            "40/40 [==============================] - 0s 5ms/step - loss: 10.4045 - priority_loss: 0.3448 - department_loss: 10.0598 - priority_mean_absolute_error: 0.5097 - department_accuracy: 0.1242\n",
            "40/40 [==============================] - 0s 4ms/step\n"
          ]
        }
      ],
      "source": [
        "import numpy as np\n",
        "\n",
        "num_samples = 1280\n",
        "\n",
        "title_data = np.random.randint(0, 2, size=(num_samples, vocabulary_size))\n",
        "text_body_data = np.random.randint(0, 2, size=(num_samples, vocabulary_size))\n",
        "tags_data = np.random.randint(0, 2, size=(num_samples, num_tags))\n",
        "\n",
        "priority_data = np.random.random(size=(num_samples, 1))\n",
        "department_data = np.random.randint(0, 2, size=(num_samples, num_departments))\n",
        "\n",
        "model.compile(optimizer=\"rmsprop\",\n",
        "              loss=[\"mean_squared_error\", \"categorical_crossentropy\"], # output이 2개이니까 loss도 2개가 되게\n",
        "              metrics=[[\"mean_absolute_error\"], [\"accuracy\"]]) # ouput이 2개이니까 metrics도 2개가 되게\n",
        "model.fit([title_data, text_body_data, tags_data],\n",
        "          [priority_data, department_data],\n",
        "          epochs=1)\n",
        "model.evaluate([title_data, text_body_data, tags_data],\n",
        "               [priority_data, department_data])\n",
        "priority_preds, department_preds = model.predict([title_data, text_body_data, tags_data])"
      ]
    },
    {
      "cell_type": "markdown",
      "metadata": {
        "id": "TehhgZ4My3OJ"
      },
      "source": [
        "**Training a model by providing dicts of input & target arrays**"
      ]
    },
    {
      "cell_type": "code",
      "execution_count": 37,
      "metadata": {
        "id": "TBgAhtpJy3OK",
        "outputId": "ff61d3b5-844d-4d7d-a339-b1ed3318e92d",
        "colab": {
          "base_uri": "https://localhost:8080/"
        }
      },
      "outputs": [
        {
          "output_type": "stream",
          "name": "stdout",
          "text": [
            "40/40 [==============================] - 1s 6ms/step - loss: 22.4445 - priority_loss: 0.3448 - department_loss: 22.0998 - priority_mean_absolute_error: 0.5097 - department_accuracy: 0.2875\n",
            "40/40 [==============================] - 0s 5ms/step - loss: 20.4470 - priority_loss: 0.3448 - department_loss: 20.1022 - priority_mean_absolute_error: 0.5097 - department_accuracy: 0.2430\n",
            "40/40 [==============================] - 0s 4ms/step\n"
          ]
        }
      ],
      "source": [
        "model.compile(optimizer=\"rmsprop\",\n",
        "              loss={\"priority\": \"mean_squared_error\", \"department\": \"categorical_crossentropy\"},\n",
        "              metrics={\"priority\": [\"mean_absolute_error\"], \"department\": [\"accuracy\"]})\n",
        "model.fit({\"title\": title_data, \"text_body\": text_body_data, \"tags\": tags_data},\n",
        "          {\"priority\": priority_data, \"department\": department_data},\n",
        "          epochs=1)\n",
        "model.evaluate({\"title\": title_data, \"text_body\": text_body_data, \"tags\": tags_data},\n",
        "               {\"priority\": priority_data, \"department\": department_data}) #이름을 지정해주겠다는 것.\n",
        "priority_preds, department_preds = model.predict(\n",
        "    {\"title\": title_data, \"text_body\": text_body_data, \"tags\": tags_data})"
      ]
    },
    {
      "cell_type": "markdown",
      "metadata": {
        "id": "L5t7iQ-Jy3OK"
      },
      "source": [
        "#### The power of the Functional API: Access to layer connectivity"
      ]
    },
    {
      "cell_type": "code",
      "execution_count": 38,
      "metadata": {
        "id": "zxysgYaky3OK",
        "outputId": "34db8ce9-4e5f-47bf-cf56-50bbf4b5c41b",
        "colab": {
          "base_uri": "https://localhost:8080/",
          "height": 466
        }
      },
      "outputs": [
        {
          "output_type": "execute_result",
          "data": {
            "image/png": "[encoded data removed]",
            "text/plain": [
              "<IPython.core.display.Image object>"
            ]
          },
          "metadata": {},
          "execution_count": 38
        }
      ],
      "source": [
        "keras.utils.plot_model(model, \"ticket_classifier.png\")\n",
        "# 3개의 input을 넣어서 2개의 output을 출력하겠다는 그림."
      ]
    },
    {
      "cell_type": "code",
      "execution_count": 39,
      "metadata": {
        "id": "isAMhMcjy3OL",
        "outputId": "7b0b4e5b-4ba6-4eb1-c30a-5fd82f035f7b",
        "colab": {
          "base_uri": "https://localhost:8080/",
          "height": 510
        }
      },
      "outputs": [
        {
          "output_type": "execute_result",
          "data": {
            "image/png": "[encoded data removed]",
            "text/plain": [
              "<IPython.core.display.Image object>"
            ]
          },
          "metadata": {},
          "execution_count": 39
        }
      ],
      "source": [
        "keras.utils.plot_model(model, \"ticket_classifier_with_shape_info.png\", show_shapes=True)"
      ]
    },
    {
      "cell_type": "markdown",
      "metadata": {
        "id": "BL5FRLTpy3OL"
      },
      "source": [
        "**Retrieving the inputs or outputs of a layer in a Functional model**"
      ]
    },
    {
      "cell_type": "code",
      "execution_count": 29,
      "metadata": {
        "id": "V0VEs_aPy3OL",
        "outputId": "682a921d-3e38-48d8-f7a0-cde098ba80f8",
        "colab": {
          "base_uri": "https://localhost:8080/"
        }
      },
      "outputs": [
        {
          "output_type": "execute_result",
          "data": {
            "text/plain": [
              "[<keras.engine.input_layer.InputLayer at 0x7fc591ebfa30>,\n",
              " <keras.engine.input_layer.InputLayer at 0x7fc591ebfb20>,\n",
              " <keras.engine.input_layer.InputLayer at 0x7fc591f79520>,\n",
              " <keras.layers.merging.concatenate.Concatenate at 0x7fc591ecba00>,\n",
              " <keras.layers.core.dense.Dense at 0x7fc591eefee0>,\n",
              " <keras.layers.core.dense.Dense at 0x7fc591ec06a0>,\n",
              " <keras.layers.core.dense.Dense at 0x7fc591ec0070>]"
            ]
          },
          "metadata": {},
          "execution_count": 29
        }
      ],
      "source": [
        "model.layers\n",
        "# 같은 줄에 있는건 매트릭스이고, 같은 레이어라는 것은, 같은 매트릭스에 있는 각각.\n",
        "# 즉 여기서는 레이어가 7개"
      ]
    },
    {
      "cell_type": "code",
      "execution_count": 30,
      "metadata": {
        "id": "3FU224rAy3OL",
        "outputId": "2dd176f7-8ca0-4ef2-c38e-74e39089720b",
        "colab": {
          "base_uri": "https://localhost:8080/"
        }
      },
      "outputs": [
        {
          "output_type": "execute_result",
          "data": {
            "text/plain": [
              "[<KerasTensor: shape=(None, 10000) dtype=float32 (created by layer 'title')>,\n",
              " <KerasTensor: shape=(None, 10000) dtype=float32 (created by layer 'text_body')>,\n",
              " <KerasTensor: shape=(None, 100) dtype=float32 (created by layer 'tags')>]"
            ]
          },
          "metadata": {},
          "execution_count": 30
        }
      ],
      "source": [
        "model.layers[3].input # layers[3]은 파이썬은 0부터 시작하니까 4번째, 즉 2번째 매트릭스에 있는 녀석이고, 이 녀석의 .input이니까 여기에 들어간 input값을 출력해줌."
      ]
    },
    {
      "cell_type": "code",
      "execution_count": 31,
      "metadata": {
        "id": "NLIl3upGy3OM",
        "outputId": "78e3611d-da12-4d3a-bfab-919b9e8f1f30",
        "colab": {
          "base_uri": "https://localhost:8080/"
        }
      },
      "outputs": [
        {
          "output_type": "execute_result",
          "data": {
            "text/plain": [
              "<KerasTensor: shape=(None, 20100) dtype=float32 (created by layer 'concatenate_1')>"
            ]
          },
          "metadata": {},
          "execution_count": 31
        }
      ],
      "source": [
        "model.layers[3].output # layers[3]의 output을 출력."
      ]
    },
    {
      "cell_type": "markdown",
      "metadata": {
        "id": "kxGMvoDQy3OM"
      },
      "source": [
        "**Creating a new model by reusing intermediate layer outputs**"
      ]
    },
    {
      "cell_type": "code",
      "execution_count": 32,
      "metadata": {
        "id": "HkBDcnUHy3OM"
      },
      "outputs": [],
      "source": [
        "features = model.layers[4].output\n",
        "difficulty = layers.Dense(3, activation=\"softmax\", name=\"difficulty\")(features)\n",
        "\n",
        "new_model = keras.Model(\n",
        "    inputs=[title, text_body, tags],\n",
        "    outputs=[priority, department, difficulty])"
      ]
    },
    {
      "cell_type": "code",
      "execution_count": null,
      "metadata": {
        "id": "YUL3H68Xy3ON"
      },
      "outputs": [],
      "source": [
        "keras.utils.plot_model(new_model, \"updated_ticket_classifier.png\", show_shapes=True)"
      ]
    },
    {
      "cell_type": "markdown",
      "metadata": {
        "id": "Pun9_3jJy3ON"
      },
      "source": [
        "### Subclassing the Model class"
      ]
    },
    {
      "cell_type": "markdown",
      "metadata": {
        "id": "fAOxKhFPy3ON"
      },
      "source": [
        "#### Rewriting our previous example as a subclassed model"
      ]
    },
    {
      "cell_type": "markdown",
      "metadata": {
        "id": "Ec8jODAJy3OO"
      },
      "source": [
        "**A simple subclassed model**"
      ]
    },
    {
      "cell_type": "code",
      "execution_count": 33,
      "metadata": {
        "id": "vdcwhYoey3OO"
      },
      "outputs": [],
      "source": [
        "class CustomerTicketModel(keras.Model):\n",
        "\n",
        "    def __init__(self, num_departments): # 무조건 init. init은 정의해주는 녀석\n",
        "        super().__init__() # 새롭게 def을 할 때는 필요 없지만, 위에 class값의 keras.Model 등의 기능을 이용하기 위해서는 super라는 것을 사용 해야됨.\n",
        "        self.concat_layer = layers.Concatenate() # class 안에 concat_layer라는 method를 저장 해주는게 self의 역할.\n",
        "        self.mixing_layer = layers.Dense(64, activation=\"relu\")\n",
        "        self.priority_scorer = layers.Dense(1, activation=\"sigmoid\")\n",
        "        self.department_classifier = layers.Dense(\n",
        "            num_departments, activation=\"softmax\")\n",
        "\n",
        "    def call(self, inputs): # call은 init으로 지정한 class를 불러오면 자동으로 실행해주는 함수.\n",
        "        title = inputs[\"title\"]\n",
        "        text_body = inputs[\"text_body\"]\n",
        "        tags = inputs[\"tags\"]\n",
        "\n",
        "        features = self.concat_layer([title, text_body, tags]) # 위의 init에서 저장한 녀석을 불러와주는 녀석.\n",
        "        features = self.mixing_layer(features) \n",
        "        priority = self.priority_scorer(features)\n",
        "        department = self.department_classifier(features)\n",
        "        return priority, department"
      ]
    },
    {
      "cell_type": "code",
      "execution_count": 34,
      "metadata": {
        "id": "9Bs2U8m3y3OO"
      },
      "outputs": [],
      "source": [
        "model = CustomerTicketModel(num_departments=4)\n",
        "\n",
        "priority, department = model(\n",
        "    {\"title\": title_data, \"text_body\": text_body_data, \"tags\": tags_data})"
      ]
    },
    {
      "cell_type": "code",
      "execution_count": null,
      "metadata": {
        "id": "8OD8ol7Jy3OO"
      },
      "outputs": [],
      "source": [
        "# 위의 것 처럼 만들 수 있음을 보여주는 예시\n",
        "model.compile(optimizer=\"rmsprop\",\n",
        "              loss=[\"mean_squared_error\", \"categorical_crossentropy\"],\n",
        "              metrics=[[\"mean_absolute_error\"], [\"accuracy\"]])\n",
        "model.fit({\"title\": title_data,\n",
        "           \"text_body\": text_body_data,\n",
        "           \"tags\": tags_data},\n",
        "          [priority_data, department_data],\n",
        "          epochs=1)\n",
        "model.evaluate({\"title\": title_data,\n",
        "                \"text_body\": text_body_data,\n",
        "                \"tags\": tags_data},\n",
        "               [priority_data, department_data])\n",
        "priority_preds, department_preds = model.predict({\"title\": title_data,\n",
        "                                                  \"text_body\": text_body_data,\n",
        "                                                  \"tags\": tags_data})"
      ]
    },
    {
      "cell_type": "markdown",
      "metadata": {
        "id": "5VRXC23Xy3OP"
      },
      "source": [
        "#### Beware: What subclassed models don't support"
      ]
    },
    {
      "cell_type": "markdown",
      "metadata": {
        "id": "9diKUjtey3OP"
      },
      "source": [
        "### Mixing and matching different components"
      ]
    },
    {
      "cell_type": "markdown",
      "metadata": {
        "id": "YrwrTX-ny3OP"
      },
      "source": [
        "**Creating a Functional model that includes a subclassed model**"
      ]
    },
    {
      "cell_type": "code",
      "execution_count": null,
      "metadata": {
        "id": "bRWI4wrEy3OQ"
      },
      "outputs": [],
      "source": [
        "class Classifier(keras.Model):\n",
        "\n",
        "    def __init__(self, num_classes=2):\n",
        "        super().__init__()\n",
        "        if num_classes == 2:\n",
        "            num_units = 1\n",
        "            activation = \"sigmoid\"\n",
        "        else:\n",
        "            num_units = num_classes\n",
        "            activation = \"softmax\"\n",
        "        self.dense = layers.Dense(num_units, activation=activation)\n",
        "\n",
        "    def call(self, inputs):\n",
        "        return self.dense(inputs)\n",
        "\n",
        "inputs = keras.Input(shape=(3,))\n",
        "features = layers.Dense(64, activation=\"relu\")(inputs)\n",
        "outputs = Classifier(num_classes=10)(features)\n",
        "model = keras.Model(inputs=inputs, outputs=outputs)"
      ]
    },
    {
      "cell_type": "markdown",
      "metadata": {
        "id": "sg-rg8bLy3OQ"
      },
      "source": [
        "**Creating a subclassed model that includes a Functional model**"
      ]
    },
    {
      "cell_type": "code",
      "execution_count": null,
      "metadata": {
        "id": "av79MVU7y3OQ"
      },
      "outputs": [],
      "source": [
        "inputs = keras.Input(shape=(64,))\n",
        "outputs = layers.Dense(1, activation=\"sigmoid\")(inputs)\n",
        "binary_classifier = keras.Model(inputs=inputs, outputs=outputs)\n",
        "\n",
        "class MyModel(keras.Model):\n",
        "\n",
        "    def __init__(self, num_classes=2):\n",
        "        super().__init__()\n",
        "        self.dense = layers.Dense(64, activation=\"relu\")\n",
        "        self.classifier = binary_classifier\n",
        "\n",
        "    def call(self, inputs):\n",
        "        features = self.dense(inputs)\n",
        "        return self.classifier(features)\n",
        "\n",
        "model = MyModel()"
      ]
    },
    {
      "cell_type": "markdown",
      "metadata": {
        "id": "7TD-LIzxy3OR"
      },
      "source": [
        "### Remember: Use the right tool for the job"
      ]
    },
    {
      "cell_type": "markdown",
      "metadata": {
        "id": "Q1LXEb7oy3OR"
      },
      "source": [
        "## Using built-in training and evaluation loops"
      ]
    },
    {
      "cell_type": "markdown",
      "metadata": {
        "id": "2jTdgmCQy3OS"
      },
      "source": [
        "**The standard workflow: `compile()`, `fit()`, `evaluate()`, `predict()`**"
      ]
    },
    {
      "cell_type": "code",
      "execution_count": null,
      "metadata": {
        "id": "EqP8hO9Hy3OS"
      },
      "outputs": [],
      "source": [
        "from tensorflow.keras.datasets import mnist\n",
        "\n",
        "def get_mnist_model():\n",
        "    inputs = keras.Input(shape=(28 * 28,))\n",
        "    features = layers.Dense(512, activation=\"relu\")(inputs)\n",
        "    features = layers.Dropout(0.5)(features)\n",
        "    outputs = layers.Dense(10, activation=\"softmax\")(features)\n",
        "    model = keras.Model(inputs, outputs)\n",
        "    return model\n",
        "\n",
        "(images, labels), (test_images, test_labels) = mnist.load_data()\n",
        "images = images.reshape((60000, 28 * 28)).astype(\"float32\") / 255\n",
        "test_images = test_images.reshape((10000, 28 * 28)).astype(\"float32\") / 255\n",
        "train_images, val_images = images[10000:], images[:10000]\n",
        "train_labels, val_labels = labels[10000:], labels[:10000]\n",
        "\n",
        "model = get_mnist_model()\n",
        "model.compile(optimizer=\"rmsprop\",\n",
        "              loss=\"sparse_categorical_crossentropy\",\n",
        "              metrics=[\"accuracy\"])\n",
        "model.fit(train_images, train_labels,\n",
        "          epochs=3,\n",
        "          validation_data=(val_images, val_labels))\n",
        "test_metrics = model.evaluate(test_images, test_labels)\n",
        "predictions = model.predict(test_images)"
      ]
    },
    {
      "cell_type": "markdown",
      "metadata": {
        "id": "P2na6OTgy3OS"
      },
      "source": [
        "### Writing your own metrics"
      ]
    },
    {
      "cell_type": "markdown",
      "metadata": {
        "id": "tgXx6c-3y3OT"
      },
      "source": [
        "**Implementing a custom metric by subclassing the `Metric` class**"
      ]
    },
    {
      "cell_type": "code",
      "execution_count": null,
      "metadata": {
        "id": "-lB9zRNNy3OT"
      },
      "outputs": [],
      "source": [
        "import tensorflow as tf\n",
        "\n",
        "class RootMeanSquaredError(keras.metrics.Metric):\n",
        "\n",
        "    def __init__(self, name=\"rmse\", **kwargs):\n",
        "        super().__init__(name=name, **kwargs)\n",
        "        self.mse_sum = self.add_weight(name=\"mse_sum\", initializer=\"zeros\")\n",
        "        self.total_samples = self.add_weight(\n",
        "            name=\"total_samples\", initializer=\"zeros\", dtype=\"int32\")\n",
        "\n",
        "    def update_state(self, y_true, y_pred, sample_weight=None):\n",
        "        y_true = tf.one_hot(y_true, depth=tf.shape(y_pred)[1])\n",
        "        mse = tf.reduce_sum(tf.square(y_true - y_pred))\n",
        "        self.mse_sum.assign_add(mse)\n",
        "        num_samples = tf.shape(y_pred)[0]\n",
        "        self.total_samples.assign_add(num_samples)\n",
        "\n",
        "    def result(self):\n",
        "        return tf.sqrt(self.mse_sum / tf.cast(self.total_samples, tf.float32))\n",
        "\n",
        "    def reset_state(self):\n",
        "        self.mse_sum.assign(0.)\n",
        "        self.total_samples.assign(0)"
      ]
    },
    {
      "cell_type": "code",
      "execution_count": null,
      "metadata": {
        "id": "4L0kFYLpy3OT"
      },
      "outputs": [],
      "source": [
        "model = get_mnist_model()\n",
        "model.compile(optimizer=\"rmsprop\",\n",
        "              loss=\"sparse_categorical_crossentropy\",\n",
        "              metrics=[\"accuracy\", RootMeanSquaredError()])\n",
        "model.fit(train_images, train_labels,\n",
        "          epochs=3,\n",
        "          validation_data=(val_images, val_labels))\n",
        "test_metrics = model.evaluate(test_images, test_labels)"
      ]
    },
    {
      "cell_type": "markdown",
      "metadata": {
        "id": "dGC17dPby3OU"
      },
      "source": [
        "### Using callbacks"
      ]
    },
    {
      "cell_type": "markdown",
      "metadata": {
        "id": "6s13pXLry3OU"
      },
      "source": [
        "#### The EarlyStopping and ModelCheckpoint callbacks"
      ]
    },
    {
      "cell_type": "markdown",
      "metadata": {
        "id": "616c7rasy3OU"
      },
      "source": [
        "**Using the `callbacks` argument in the `fit()` method**"
      ]
    },
    {
      "cell_type": "code",
      "execution_count": null,
      "metadata": {
        "id": "QnDN3PILy3OV"
      },
      "outputs": [],
      "source": [
        "callbacks_list = [\n",
        "    keras.callbacks.EarlyStopping(\n",
        "        monitor=\"val_accuracy\",\n",
        "        patience=2,\n",
        "    ),\n",
        "    keras.callbacks.ModelCheckpoint(\n",
        "        filepath=\"checkpoint_path.keras\",\n",
        "        monitor=\"val_loss\",\n",
        "        save_best_only=True,\n",
        "    )\n",
        "]\n",
        "model = get_mnist_model()\n",
        "model.compile(optimizer=\"rmsprop\",\n",
        "              loss=\"sparse_categorical_crossentropy\",\n",
        "              metrics=[\"accuracy\"])\n",
        "model.fit(train_images, train_labels,\n",
        "          epochs=10,\n",
        "          callbacks=callbacks_list,\n",
        "          validation_data=(val_images, val_labels))"
      ]
    },
    {
      "cell_type": "code",
      "execution_count": null,
      "metadata": {
        "id": "4U6jtDLCy3OV"
      },
      "outputs": [],
      "source": [
        "model = keras.models.load_model(\"checkpoint_path.keras\")"
      ]
    },
    {
      "cell_type": "markdown",
      "metadata": {
        "id": "II_vfr_8y3OV"
      },
      "source": [
        "### Writing your own callbacks"
      ]
    },
    {
      "cell_type": "markdown",
      "metadata": {
        "id": "PaDzK9SCy3OW"
      },
      "source": [
        "**Creating a custom callback by subclassing the `Callback` class**"
      ]
    },
    {
      "cell_type": "code",
      "execution_count": null,
      "metadata": {
        "id": "ZKUj84qfy3OW"
      },
      "outputs": [],
      "source": [
        "from matplotlib import pyplot as plt\n",
        "\n",
        "class LossHistory(keras.callbacks.Callback):\n",
        "    def on_train_begin(self, logs):\n",
        "        self.per_batch_losses = []\n",
        "\n",
        "    def on_batch_end(self, batch, logs):\n",
        "        self.per_batch_losses.append(logs.get(\"loss\"))\n",
        "\n",
        "    def on_epoch_end(self, epoch, logs):\n",
        "        plt.clf()\n",
        "        plt.plot(range(len(self.per_batch_losses)), self.per_batch_losses,\n",
        "                 label=\"Training loss for each batch\")\n",
        "        plt.xlabel(f\"Batch (epoch {epoch})\")\n",
        "        plt.ylabel(\"Loss\")\n",
        "        plt.legend()\n",
        "        plt.savefig(f\"plot_at_epoch_{epoch}\")\n",
        "        self.per_batch_losses = []"
      ]
    },
    {
      "cell_type": "code",
      "execution_count": null,
      "metadata": {
        "id": "U2mzmUe7y3OW"
      },
      "outputs": [],
      "source": [
        "model = get_mnist_model()\n",
        "model.compile(optimizer=\"rmsprop\",\n",
        "              loss=\"sparse_categorical_crossentropy\",\n",
        "              metrics=[\"accuracy\"])\n",
        "model.fit(train_images, train_labels,\n",
        "          epochs=10,\n",
        "          callbacks=[LossHistory()],\n",
        "          validation_data=(val_images, val_labels))"
      ]
    },
    {
      "cell_type": "markdown",
      "metadata": {
        "id": "3wa8zmwMy3OX"
      },
      "source": [
        "### Monitoring and visualization with TensorBoard"
      ]
    },
    {
      "cell_type": "code",
      "execution_count": null,
      "metadata": {
        "id": "3gtT_r8ay3OX"
      },
      "outputs": [],
      "source": [
        "model = get_mnist_model()\n",
        "model.compile(optimizer=\"rmsprop\",\n",
        "              loss=\"sparse_categorical_crossentropy\",\n",
        "              metrics=[\"accuracy\"])\n",
        "\n",
        "tensorboard = keras.callbacks.TensorBoard(\n",
        "    log_dir=\"/full_path_to_your_log_dir\",\n",
        ")\n",
        "model.fit(train_images, train_labels,\n",
        "          epochs=10,\n",
        "          validation_data=(val_images, val_labels),\n",
        "          callbacks=[tensorboard])"
      ]
    },
    {
      "cell_type": "code",
      "execution_count": null,
      "metadata": {
        "id": "v-GVbLVQy3OX"
      },
      "outputs": [],
      "source": [
        "%load_ext tensorboard\n",
        "%tensorboard --logdir /full_path_to_your_log_dir"
      ]
    },
    {
      "cell_type": "markdown",
      "metadata": {
        "id": "SuPmBRPay3OY"
      },
      "source": [
        "## Writing your own training and evaluation loops"
      ]
    },
    {
      "cell_type": "markdown",
      "metadata": {
        "id": "SLfKtQqPy3OY"
      },
      "source": [
        "### Training versus inference"
      ]
    },
    {
      "cell_type": "markdown",
      "metadata": {
        "id": "GVIHcf5gy3OY"
      },
      "source": [
        "### Low-level usage of metrics"
      ]
    },
    {
      "cell_type": "code",
      "execution_count": null,
      "metadata": {
        "id": "oWAP3eYVy3OZ"
      },
      "outputs": [],
      "source": [
        "metric = keras.metrics.SparseCategoricalAccuracy()\n",
        "targets = [0, 1, 2]\n",
        "predictions = [[1, 0, 0], [0, 1, 0], [0, 0, 1]]\n",
        "metric.update_state(targets, predictions)\n",
        "current_result = metric.result()\n",
        "print(f\"result: {current_result:.2f}\")"
      ]
    },
    {
      "cell_type": "code",
      "execution_count": null,
      "metadata": {
        "id": "hhdbMcuhy3OZ"
      },
      "outputs": [],
      "source": [
        "values = [0, 1, 2, 3, 4]\n",
        "mean_tracker = keras.metrics.Mean()\n",
        "for value in values:\n",
        "    mean_tracker.update_state(value)\n",
        "print(f\"Mean of values: {mean_tracker.result():.2f}\")"
      ]
    },
    {
      "cell_type": "markdown",
      "metadata": {
        "id": "pyzOfwiyy3OZ"
      },
      "source": [
        "### A complete training and evaluation loop"
      ]
    },
    {
      "cell_type": "markdown",
      "metadata": {
        "id": "zEku1Nw2y3Oa"
      },
      "source": [
        "**Writing a step-by-step training loop: the training step function**"
      ]
    },
    {
      "cell_type": "code",
      "execution_count": null,
      "metadata": {
        "id": "1PmaovHky3Oa"
      },
      "outputs": [],
      "source": [
        "model = get_mnist_model()\n",
        "\n",
        "loss_fn = keras.losses.SparseCategoricalCrossentropy()\n",
        "optimizer = keras.optimizers.RMSprop()\n",
        "metrics = [keras.metrics.SparseCategoricalAccuracy()]\n",
        "loss_tracking_metric = keras.metrics.Mean()\n",
        "\n",
        "def train_step(inputs, targets):\n",
        "    with tf.GradientTape() as tape:\n",
        "        predictions = model(inputs, training=True)\n",
        "        loss = loss_fn(targets, predictions)\n",
        "    gradients = tape.gradient(loss, model.trainable_weights)\n",
        "    optimizer.apply_gradients(zip(gradients, model.trainable_weights))\n",
        "\n",
        "    logs = {}\n",
        "    for metric in metrics:\n",
        "        metric.update_state(targets, predictions)\n",
        "        logs[metric.name] = metric.result()\n",
        "\n",
        "    loss_tracking_metric.update_state(loss)\n",
        "    logs[\"loss\"] = loss_tracking_metric.result()\n",
        "    return logs"
      ]
    },
    {
      "cell_type": "markdown",
      "metadata": {
        "id": "m_Nr52tWy3Oa"
      },
      "source": [
        "**Writing a step-by-step training loop: resetting the metrics**"
      ]
    },
    {
      "cell_type": "code",
      "execution_count": null,
      "metadata": {
        "id": "BViwICb4y3Oa"
      },
      "outputs": [],
      "source": [
        "def reset_metrics():\n",
        "    for metric in metrics:\n",
        "        metric.reset_state()\n",
        "    loss_tracking_metric.reset_state()"
      ]
    },
    {
      "cell_type": "markdown",
      "metadata": {
        "id": "O9cfMSiZy3Ob"
      },
      "source": [
        "**Writing a step-by-step training loop: the loop itself**"
      ]
    },
    {
      "cell_type": "code",
      "execution_count": null,
      "metadata": {
        "id": "q9TDWaSny3Ob"
      },
      "outputs": [],
      "source": [
        "training_dataset = tf.data.Dataset.from_tensor_slices((train_images, train_labels))\n",
        "training_dataset = training_dataset.batch(32)\n",
        "epochs = 3\n",
        "for epoch in range(epochs):\n",
        "    reset_metrics()\n",
        "    for inputs_batch, targets_batch in training_dataset:\n",
        "        logs = train_step(inputs_batch, targets_batch)\n",
        "    print(f\"Results at the end of epoch {epoch}\")\n",
        "    for key, value in logs.items():\n",
        "        print(f\"...{key}: {value:.4f}\")"
      ]
    },
    {
      "cell_type": "markdown",
      "metadata": {
        "id": "StpmkBp-y3Ob"
      },
      "source": [
        "**Writing a step-by-step evaluation loop**"
      ]
    },
    {
      "cell_type": "code",
      "execution_count": null,
      "metadata": {
        "id": "lwlNSyMzy3Ob"
      },
      "outputs": [],
      "source": [
        "def test_step(inputs, targets):\n",
        "    predictions = model(inputs, training=False)\n",
        "    loss = loss_fn(targets, predictions)\n",
        "\n",
        "    logs = {}\n",
        "    for metric in metrics:\n",
        "        metric.update_state(targets, predictions)\n",
        "        logs[\"val_\" + metric.name] = metric.result()\n",
        "\n",
        "    loss_tracking_metric.update_state(loss)\n",
        "    logs[\"val_loss\"] = loss_tracking_metric.result()\n",
        "    return logs\n",
        "\n",
        "val_dataset = tf.data.Dataset.from_tensor_slices((val_images, val_labels))\n",
        "val_dataset = val_dataset.batch(32)\n",
        "reset_metrics()\n",
        "for inputs_batch, targets_batch in val_dataset:\n",
        "    logs = test_step(inputs_batch, targets_batch)\n",
        "print(\"Evaluation results:\")\n",
        "for key, value in logs.items():\n",
        "    print(f\"...{key}: {value:.4f}\")"
      ]
    },
    {
      "cell_type": "markdown",
      "metadata": {
        "id": "CI_SQ7-Ey3Oc"
      },
      "source": [
        "### Make it fast with tf.function"
      ]
    },
    {
      "cell_type": "markdown",
      "metadata": {
        "id": "TMKkjzv_y3Oc"
      },
      "source": [
        "**Adding a `tf.function` decorator to our evaluation-step function**"
      ]
    },
    {
      "cell_type": "code",
      "execution_count": null,
      "metadata": {
        "id": "eptiA-Nky3Od"
      },
      "outputs": [],
      "source": [
        "@tf.function\n",
        "def test_step(inputs, targets):\n",
        "    predictions = model(inputs, training=False)\n",
        "    loss = loss_fn(targets, predictions)\n",
        "\n",
        "    logs = {}\n",
        "    for metric in metrics:\n",
        "        metric.update_state(targets, predictions)\n",
        "        logs[\"val_\" + metric.name] = metric.result()\n",
        "\n",
        "    loss_tracking_metric.update_state(loss)\n",
        "    logs[\"val_loss\"] = loss_tracking_metric.result()\n",
        "    return logs\n",
        "\n",
        "val_dataset = tf.data.Dataset.from_tensor_slices((val_images, val_labels))\n",
        "val_dataset = val_dataset.batch(32)\n",
        "reset_metrics()\n",
        "for inputs_batch, targets_batch in val_dataset:\n",
        "    logs = test_step(inputs_batch, targets_batch)\n",
        "print(\"Evaluation results:\")\n",
        "for key, value in logs.items():\n",
        "    print(f\"...{key}: {value:.4f}\")"
      ]
    },
    {
      "cell_type": "markdown",
      "metadata": {
        "id": "j6nO8KmQy3Od"
      },
      "source": [
        "### Leveraging fit() with a custom training loop"
      ]
    },
    {
      "cell_type": "markdown",
      "metadata": {
        "id": "yi9yGPL_y3Od"
      },
      "source": [
        "**Implementing a custom training step to use with `fit()`**"
      ]
    },
    {
      "cell_type": "code",
      "execution_count": null,
      "metadata": {
        "id": "mlkM7LnCy3Od"
      },
      "outputs": [],
      "source": [
        "loss_fn = keras.losses.SparseCategoricalCrossentropy()\n",
        "loss_tracker = keras.metrics.Mean(name=\"loss\")\n",
        "\n",
        "class CustomModel(keras.Model):\n",
        "    def train_step(self, data):\n",
        "        inputs, targets = data\n",
        "        with tf.GradientTape() as tape:\n",
        "            predictions = self(inputs, training=True)\n",
        "            loss = loss_fn(targets, predictions)\n",
        "        gradients = tape.gradient(loss, self.trainable_weights)\n",
        "        self.optimizer.apply_gradients(zip(gradients, self.trainable_weights))\n",
        "\n",
        "        loss_tracker.update_state(loss)\n",
        "        return {\"loss\": loss_tracker.result()}\n",
        "\n",
        "    @property\n",
        "    def metrics(self):\n",
        "        return [loss_tracker]"
      ]
    },
    {
      "cell_type": "code",
      "execution_count": null,
      "metadata": {
        "id": "bXwQ0Xkjy3Od"
      },
      "outputs": [],
      "source": [
        "inputs = keras.Input(shape=(28 * 28,))\n",
        "features = layers.Dense(512, activation=\"relu\")(inputs)\n",
        "features = layers.Dropout(0.5)(features)\n",
        "outputs = layers.Dense(10, activation=\"softmax\")(features)\n",
        "model = CustomModel(inputs, outputs)\n",
        "\n",
        "model.compile(optimizer=keras.optimizers.RMSprop())\n",
        "model.fit(train_images, train_labels, epochs=3)"
      ]
    },
    {
      "cell_type": "code",
      "execution_count": null,
      "metadata": {
        "id": "foSbRD2Iy3Oe"
      },
      "outputs": [],
      "source": [
        "class CustomModel(keras.Model):\n",
        "    def train_step(self, data):\n",
        "        inputs, targets = data\n",
        "        with tf.GradientTape() as tape:\n",
        "            predictions = self(inputs, training=True)\n",
        "            loss = self.compiled_loss(targets, predictions)\n",
        "        gradients = tape.gradient(loss, self.trainable_weights)\n",
        "        self.optimizer.apply_gradients(zip(gradients, self.trainable_weights))\n",
        "        self.compiled_metrics.update_state(targets, predictions)\n",
        "        return {m.name: m.result() for m in self.metrics}"
      ]
    },
    {
      "cell_type": "code",
      "execution_count": null,
      "metadata": {
        "id": "tMoG5eaIy3Oe"
      },
      "outputs": [],
      "source": [
        "inputs = keras.Input(shape=(28 * 28,))\n",
        "features = layers.Dense(512, activation=\"relu\")(inputs)\n",
        "features = layers.Dropout(0.5)(features)\n",
        "outputs = layers.Dense(10, activation=\"softmax\")(features)\n",
        "model = CustomModel(inputs, outputs)\n",
        "\n",
        "model.compile(optimizer=keras.optimizers.RMSprop(),\n",
        "              loss=keras.losses.SparseCategoricalCrossentropy(),\n",
        "              metrics=[keras.metrics.SparseCategoricalAccuracy()])\n",
        "model.fit(train_images, train_labels, epochs=3)"
      ]
    },
    {
      "cell_type": "markdown",
      "metadata": {
        "id": "sBLd7tMay3Oe"
      },
      "source": [
        "## Summary"
      ]
    }
  ],
  "metadata": {
    "colab": {
      "name": "chapter07_working-with-keras.i",
      "provenance": []
    },
    "kernelspec": {
      "display_name": "Python 3",
      "language": "python",
      "name": "python3"
    },
    "language_info": {
      "codemirror_mode": {
        "name": "ipython",
        "version": 3
      },
      "file_extension": ".py",
      "mimetype": "text/x-python",
      "name": "python",
      "nbconvert_exporter": "python",
      "pygments_lexer": "ipython3",
      "version": "3.7.0"
    },
    "accelerator": "GPU",
    "gpuClass": "standard"
  },
  "nbformat": 4,
  "nbformat_minor": 0
}